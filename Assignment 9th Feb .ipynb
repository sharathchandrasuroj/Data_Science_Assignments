{
 "cells": [
  {
   "cell_type": "markdown",
   "id": "46224458",
   "metadata": {},
   "source": [
    "### Q1, Create a vehicle class with an init method having instance variables as name_of_vehicle, max_speed and average_of_vehicle."
   ]
  },
  {
   "cell_type": "code",
   "execution_count": 1,
   "id": "0adc5971",
   "metadata": {},
   "outputs": [],
   "source": [
    "class Vehicle:\n",
    "    def __init__(self, name_of_vehicle, max_speed, average_of_vehicle):\n",
    "        self.name_of_vehicle = name_of_vehicle\n",
    "        self.max_speed = max_speed\n",
    "        self.average_of_vehicle = average_of_vehicle\n",
    "\n",
    "# Example usage:\n",
    "car = Vehicle(name_of_vehicle=\"Car\", max_speed=200, average_of_vehicle=25)\n"
   ]
  },
  {
   "cell_type": "markdown",
   "id": "df7f17fc",
   "metadata": {},
   "source": [
    "### Q2. Create a child class car from the vehicle class created in Que 1, which will inherit the vehicle class.\n",
    "\n",
    "Create a method named seating_capacity which takes capacity as an argument and returns the name of\n",
    "the vehicle and its seating capacity."
   ]
  },
  {
   "cell_type": "code",
   "execution_count": 2,
   "id": "9e31955c",
   "metadata": {},
   "outputs": [
    {
     "name": "stdout",
     "output_type": "stream",
     "text": [
      "Name of Vehicle: Sedan\n",
      "Max Speed: 180\n",
      "Average Efficiency: 20\n",
      "Number of Doors: 4\n"
     ]
    }
   ],
   "source": [
    "class Car(Vehicle):\n",
    "    def __init__(self, name_of_vehicle, max_speed, average_of_vehicle, num_doors):\n",
    "        # Call the constructor of the parent class (Vehicle) using super()\n",
    "        super().__init__(name_of_vehicle, max_speed, average_of_vehicle)\n",
    "        \n",
    "        # Add an additional attribute specific to the Car class\n",
    "        self.num_doors = num_doors\n",
    "\n",
    "# Example usage:\n",
    "car_instance = Car(name_of_vehicle=\"Sedan\", max_speed=180, average_of_vehicle=20, num_doors=4)\n",
    "\n",
    "# Accessing attributes from the parent class\n",
    "print(f\"Name of Vehicle: {car_instance.name_of_vehicle}\")\n",
    "print(f\"Max Speed: {car_instance.max_speed}\")\n",
    "print(f\"Average Efficiency: {car_instance.average_of_vehicle}\")\n",
    "\n",
    "# Accessing attribute from the child class\n",
    "print(f\"Number of Doors: {car_instance.num_doors}\")\n"
   ]
  },
  {
   "cell_type": "markdown",
   "id": "b4ba5110",
   "metadata": {},
   "source": [
    "### Q3. What is multiple inheritance? Write a python code to demonstrate multiple inheritance."
   ]
  },
  {
   "cell_type": "code",
   "execution_count": 3,
   "id": "a359798f",
   "metadata": {},
   "outputs": [
    {
     "name": "stdout",
     "output_type": "stream",
     "text": [
      "Engine started\n",
      "Running on electricity\n",
      "Hybrid car is driving\n"
     ]
    }
   ],
   "source": [
    "class Engine:\n",
    "    def start(self):\n",
    "        print(\"Engine started\")\n",
    "\n",
    "class ElectricMotor:\n",
    "    def run_on_electricity(self):\n",
    "        print(\"Running on electricity\")\n",
    "\n",
    "class HybridCar(Engine, ElectricMotor):\n",
    "    def drive(self):\n",
    "        print(\"Hybrid car is driving\")\n",
    "\n",
    "# Example usage:\n",
    "hybrid_car = HybridCar()\n",
    "\n",
    "# Inherited methods from Engine class\n",
    "hybrid_car.start()\n",
    "\n",
    "# Inherited methods from ElectricMotor class\n",
    "hybrid_car.run_on_electricity()\n",
    "\n",
    "# Method from the HybridCar class\n",
    "hybrid_car.drive()\n"
   ]
  },
  {
   "cell_type": "markdown",
   "id": "2dc0d97a",
   "metadata": {},
   "source": [
    "### Q4. What are getter and setter in python? Create a class and create a getter and a setter method in this class."
   ]
  },
  {
   "cell_type": "raw",
   "id": "a1d05f85",
   "metadata": {},
   "source": [
    "In Python, getter and setter methods are used to control access to the attributes of a class. They allow you to encapsulate the internal representation of an object and provide a way to get and set its values. Getter methods are used to access the values of private attributes, while setter methods are used to modify them.\n",
    "\n",
    "#Here's an example class with a private attribute, along with getter and setter methods:"
   ]
  },
  {
   "cell_type": "code",
   "execution_count": 6,
   "id": "ebda467d",
   "metadata": {},
   "outputs": [
    {
     "name": "stdout",
     "output_type": "stream",
     "text": [
      "Original Radius: 5\n",
      "Modified Radius: 7\n"
     ]
    }
   ],
   "source": [
    "class Circle:\n",
    "    def __init__(self, radius):\n",
    "        # Private attribute\n",
    "        self._radius = radius  # Convention: Use a single leading underscore to indicate a \"protected\" attribute\n",
    "\n",
    "    # Getter method\n",
    "    def get_radius(self):\n",
    "        return self._radius\n",
    "\n",
    "    # Setter method\n",
    "    def set_radius(self, new_radius):\n",
    "        if new_radius > 0:\n",
    "            self._radius = new_radius\n",
    "        else:\n",
    "            print(\"Radius must be a positive value.\")\n",
    "\n",
    "# Example usage:\n",
    "circle = Circle(radius=5)\n",
    "\n",
    "# Accessing the radius using the getter method\n",
    "print(\"Original Radius:\", circle.get_radius())\n",
    "\n",
    "# Using the setter method to modify the radius\n",
    "circle.set_radius(7)\n",
    "\n",
    "# Accessing the modified radius using the getter method\n",
    "print(\"Modified Radius:\", circle.get_radius())\n"
   ]
  },
  {
   "cell_type": "markdown",
   "id": "f1544a74",
   "metadata": {},
   "source": [
    "### Q5.What is method overriding in python? Write a python code to demonstrate method overriding."
   ]
  },
  {
   "cell_type": "raw",
   "id": "0fe8c8dd",
   "metadata": {},
   "source": [
    "Method overriding in Python occurs when a subclass provides a specific implementation for a method that is already defined in its superclass. This allows a subclass to customize or extend the behavior of the inherited method. To override a method in Python, the subclass must define a method with the same name and signature as the method in the superclass.\n",
    "\n",
    "Here's an example to demonstrate method overriding:"
   ]
  },
  {
   "cell_type": "code",
   "execution_count": 7,
   "id": "1d31add1",
   "metadata": {},
   "outputs": [
    {
     "name": "stdout",
     "output_type": "stream",
     "text": [
      "Generic animal sound\n",
      "Bark bark!\n",
      "Meow meow!\n"
     ]
    }
   ],
   "source": [
    "class Animal:\n",
    "    def make_sound(self):\n",
    "        print(\"Generic animal sound\")\n",
    "\n",
    "class Dog(Animal):\n",
    "    # Overriding the make_sound method in the Animal class\n",
    "    def make_sound(self):\n",
    "        print(\"Bark bark!\")\n",
    "\n",
    "class Cat(Animal):\n",
    "    # Overriding the make_sound method in the Animal class\n",
    "    def make_sound(self):\n",
    "        print(\"Meow meow!\")\n",
    "\n",
    "# Example usage:\n",
    "generic_animal = Animal()\n",
    "dog = Dog()\n",
    "cat = Cat()\n",
    "\n",
    "# Calling the make_sound method on instances of different classes\n",
    "generic_animal.make_sound()  # Outputs: Generic animal sound\n",
    "dog.make_sound()            # Outputs: Bark bark!\n",
    "cat.make_sound()            # Outputs: Meow meow!\n"
   ]
  },
  {
   "cell_type": "code",
   "execution_count": null,
   "id": "24d0c31d",
   "metadata": {},
   "outputs": [],
   "source": []
  },
  {
   "cell_type": "code",
   "execution_count": null,
   "id": "ac400431",
   "metadata": {},
   "outputs": [],
   "source": []
  }
 ],
 "metadata": {
  "kernelspec": {
   "display_name": "Python 3 (ipykernel)",
   "language": "python",
   "name": "python3"
  },
  "language_info": {
   "codemirror_mode": {
    "name": "ipython",
    "version": 3
   },
   "file_extension": ".py",
   "mimetype": "text/x-python",
   "name": "python",
   "nbconvert_exporter": "python",
   "pygments_lexer": "ipython3",
   "version": "3.9.18"
  }
 },
 "nbformat": 4,
 "nbformat_minor": 5
}
