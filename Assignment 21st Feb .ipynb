{
 "cells": [
  {
   "cell_type": "markdown",
   "id": "58389ee2",
   "metadata": {},
   "source": [
    "### Q1. What is Web Scraping? Why is it Used? Give three areas where Web Scraping is used to get data."
   ]
  },
  {
   "cell_type": "raw",
   "id": "f0b25b97",
   "metadata": {},
   "source": [
    "-Web scrapping is basically automating process and scrap the web \n",
    "-It is used for extracting required data from website \n",
    "-It is process of collecting structured data in automated pattern\n",
    "-Some of the main important usses are price intelligence, news monitoring , lead generation\n"
   ]
  },
  {
   "cell_type": "markdown",
   "id": "c29d4eb9",
   "metadata": {},
   "source": [
    "### Q2. What are the different methods used for Web Scraping?"
   ]
  },
  {
   "cell_type": "raw",
   "id": "dd067731",
   "metadata": {},
   "source": [
    "-Various process are needed to scrap data from website involving data cleaning\n",
    "-That is colecting garbage like data which has html tags and other garbage to transforming into clean and usefull meaingful data\n",
    "-This involves methods like open url , request url , get method\n",
    "-Also takes many libraries like beautiful soap urlib etc"
   ]
  },
  {
   "cell_type": "markdown",
   "id": "c0d7d6ab",
   "metadata": {},
   "source": [
    "### Q3. What is Beautiful Soup? Why is it used?"
   ]
  },
  {
   "cell_type": "raw",
   "id": "67db3a14",
   "metadata": {},
   "source": [
    "-It is python library\n",
    "-This used for cleaning and taking useful data from html page\n",
    "-Though it can't clean all html\n",
    "-But clears most of the useless garbage from data"
   ]
  },
  {
   "cell_type": "markdown",
   "id": "2bb78647",
   "metadata": {},
   "source": [
    "### Q4. Why is flask used in this Web Scraping project?"
   ]
  },
  {
   "cell_type": "raw",
   "id": "9b394e55",
   "metadata": {},
   "source": [
    "-It is python framework \n",
    "-It is using building url dynamically redirecting\n",
    "-It is basically web framework\n",
    "-Through which we can create web api which helps us in connecting different files and exceute function"
   ]
  },
  {
   "cell_type": "markdown",
   "id": "5bede3a0",
   "metadata": {},
   "source": [
    "### Q5. Write the names of AWS services used in this project. Also, explain the use of each service."
   ]
  },
  {
   "cell_type": "raw",
   "id": "95efbf95",
   "metadata": {},
   "source": [
    "-Here while deploying our project we make use of AWS asure\n",
    "-AWS is Amazon Web Services which is online platform for deploying our projects\n",
    "-Here basically after creating project we push that into git hub\n",
    "-From there we can use any AWS deployment like beanstalk , etc\n",
    "-This git hub project is pushed to Beanstalk using codepipeline"
   ]
  },
  {
   "cell_type": "code",
   "execution_count": null,
   "id": "e446d35f",
   "metadata": {},
   "outputs": [],
   "source": []
  },
  {
   "cell_type": "code",
   "execution_count": null,
   "id": "deab2b20",
   "metadata": {},
   "outputs": [],
   "source": []
  }
 ],
 "metadata": {
  "kernelspec": {
   "display_name": "Python 3 (ipykernel)",
   "language": "python",
   "name": "python3"
  },
  "language_info": {
   "codemirror_mode": {
    "name": "ipython",
    "version": 3
   },
   "file_extension": ".py",
   "mimetype": "text/x-python",
   "name": "python",
   "nbconvert_exporter": "python",
   "pygments_lexer": "ipython3",
   "version": "3.9.18"
  }
 },
 "nbformat": 4,
 "nbformat_minor": 5
}
