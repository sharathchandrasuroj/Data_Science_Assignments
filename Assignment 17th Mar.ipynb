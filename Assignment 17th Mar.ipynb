{
 "cells": [
  {
   "cell_type": "markdown",
   "id": "ffcb7465",
   "metadata": {},
   "source": [
    "### Q1: What are missing values in a dataset? Why is it essential to handle missing values? Name some algorithms that are not affected by missing values."
   ]
  },
  {
   "cell_type": "raw",
   "id": "72e9f290",
   "metadata": {},
   "source": [
    "Missing values in a dataset refer to the absence of a value or a piece of information that should have been present in the dataset. There are various reasons why data may be missing, such as human error, technical problems during data collection, or intentionally left blank by the respondents.\n",
    "\n",
    "\n",
    "It is essential to handle missing values in a dataset because they can affect the accuracy and reliability of data analysis and modeling. \n",
    "If missing values are ignored, it can lead to biased results, incorrect statistical inferences, and inaccurate predictions. \n",
    "Handling missing values is crucial to ensure that the data analysis and modeling accurately reflect the real-world phenomena being studied.\n",
    "\n",
    "\n",
    "Some of the algorithms that are not affected by missing values are:\n",
    "\n",
    "1.Decision trees: Decision trees can handle missing values without requiring imputation, as the algorithm can choose a split that sends missing \n",
    "values to a separate branch.\n",
    "\n",
    "\n",
    "2.Random forests: Random forests can also handle missing values because they use multiple decision trees, and the missing values are dealt with\n",
    "in the same way as decision trees.\n",
    "\n",
    "\n",
    "3.K-nearest neighbors: KNN is a distance-based algorithm that can handle missing values by ignoring the missing values when calculating the \n",
    "distances between data points.\n",
    "\n",
    "\n",
    "4.Support vector machines: SVMs can handle missing values by ignoring the missing values when calculating the hyperplane that separates the data.\n",
    "\n",
    "\n",
    "5.Naive Bayes: Naive Bayes is a probabilistic algorithm that can handle missing values by ignoring the missing values in the calculation of probabilities.\n"
   ]
  },
  {
   "cell_type": "markdown",
   "id": "caad1650",
   "metadata": {},
   "source": [
    "### Q2: List down techniques used to handle missing data. Give an example of each with python code."
   ]
  },
  {
   "cell_type": "markdown",
   "id": "44d04757",
   "metadata": {},
   "source": [
    "\n",
    "Handling missing data is an essential step in the data preprocessing phase. Here are some common techniques used to handle missing data along with examples in Python:"
   ]
  },
  {
   "cell_type": "raw",
   "id": "baa22f69",
   "metadata": {},
   "source": [
    "1.Dropping Missing Values:\n",
    "\n",
    "Technique: Remove rows or columns containing missing values.\n",
    "Example:"
   ]
  },
  {
   "cell_type": "code",
   "execution_count": 2,
   "id": "8dd0f4c2",
   "metadata": {},
   "outputs": [
    {
     "name": "stdout",
     "output_type": "stream",
     "text": [
      "DataFrame after dropping rows:\n",
      "     A    B\n",
      "0  1.0  5.0\n",
      "3  4.0  8.0\n",
      "\n",
      "DataFrame after dropping columns:\n",
      "Empty DataFrame\n",
      "Columns: []\n",
      "Index: [0, 1, 2, 3]\n"
     ]
    }
   ],
   "source": [
    "import pandas as pd\n",
    "\n",
    "# Create a DataFrame with missing values\n",
    "data = {'A': [1, 2, None, 4],\n",
    "        'B': [5, None, 7, 8]}\n",
    "df = pd.DataFrame(data)\n",
    "\n",
    "# Drop rows with missing values\n",
    "df_dropped_rows = df.dropna(axis=0)\n",
    "print(\"DataFrame after dropping rows:\")\n",
    "print(df_dropped_rows)\n",
    "\n",
    "# Drop columns with missing values\n",
    "df_dropped_columns = df.dropna(axis=1)\n",
    "print(\"\\nDataFrame after dropping columns:\")\n",
    "print(df_dropped_columns)\n"
   ]
  },
  {
   "cell_type": "raw",
   "id": "53695841",
   "metadata": {},
   "source": [
    "2.Imputation:\n",
    "\n",
    "Technique: Replace missing values with a statistical measure (e.g., mean, median, mode).\n",
    "Example:"
   ]
  },
  {
   "cell_type": "code",
   "execution_count": 3,
   "id": "eb287912",
   "metadata": {},
   "outputs": [
    {
     "name": "stdout",
     "output_type": "stream",
     "text": [
      "DataFrame after imputation:\n",
      "          A         B\n",
      "0  1.000000  5.000000\n",
      "1  2.000000  6.666667\n",
      "2  2.333333  7.000000\n",
      "3  4.000000  8.000000\n"
     ]
    }
   ],
   "source": [
    "import pandas as pd\n",
    "\n",
    "# Create a DataFrame with missing values\n",
    "data = {'A': [1, 2, None, 4],\n",
    "        'B': [5, None, 7, 8]}\n",
    "df = pd.DataFrame(data)\n",
    "\n",
    "# Impute missing values with the mean of each column\n",
    "df_imputed = df.fillna(df.mean())\n",
    "print(\"DataFrame after imputation:\")\n",
    "print(df_imputed)\n"
   ]
  },
  {
   "cell_type": "raw",
   "id": "ebe42474",
   "metadata": {},
   "source": [
    "3.Forward Fill (ffill) or Backward Fill (bfill):\n",
    "\n",
    "Technique: Propagate the last known value forward or use the next available value backward to fill missing values.\n",
    "Example:"
   ]
  },
  {
   "cell_type": "code",
   "execution_count": 4,
   "id": "8f66f62b",
   "metadata": {},
   "outputs": [
    {
     "name": "stdout",
     "output_type": "stream",
     "text": [
      "DataFrame after forward fill:\n",
      "     A    B\n",
      "0  1.0  5.0\n",
      "1  2.0  5.0\n",
      "2  2.0  7.0\n",
      "3  4.0  8.0\n",
      "\n",
      "DataFrame after backward fill:\n",
      "     A    B\n",
      "0  1.0  5.0\n",
      "1  2.0  7.0\n",
      "2  4.0  7.0\n",
      "3  4.0  8.0\n"
     ]
    }
   ],
   "source": [
    "import pandas as pd\n",
    "\n",
    "# Create a DataFrame with missing values\n",
    "data = {'A': [1, 2, None, 4],\n",
    "        'B': [5, None, 7, 8]}\n",
    "df = pd.DataFrame(data)\n",
    "\n",
    "# Forward fill missing values\n",
    "df_ffill = df.ffill()\n",
    "print(\"DataFrame after forward fill:\")\n",
    "print(df_ffill)\n",
    "\n",
    "# Backward fill missing values\n",
    "df_bfill = df.bfill()\n",
    "print(\"\\nDataFrame after backward fill:\")\n",
    "print(df_bfill)\n"
   ]
  },
  {
   "cell_type": "raw",
   "id": "3c0d7362",
   "metadata": {},
   "source": [
    "4.Interpolation:\n",
    "\n",
    "Technique: Estimate missing values using interpolation methods (e.g., linear, polynomial).\n",
    "Example:"
   ]
  },
  {
   "cell_type": "code",
   "execution_count": 5,
   "id": "48f02141",
   "metadata": {},
   "outputs": [
    {
     "name": "stdout",
     "output_type": "stream",
     "text": [
      "DataFrame after linear interpolation:\n",
      "     A    B\n",
      "0  1.0  5.0\n",
      "1  2.0  6.0\n",
      "2  3.0  7.0\n",
      "3  4.0  8.0\n"
     ]
    }
   ],
   "source": [
    "import pandas as pd\n",
    "\n",
    "# Create a DataFrame with missing values\n",
    "data = {'A': [1, 2, None, 4],\n",
    "        'B': [5, None, 7, 8]}\n",
    "df = pd.DataFrame(data)\n",
    "\n",
    "# Linear interpolation for missing values\n",
    "df_interpolated = df.interpolate()\n",
    "print(\"DataFrame after linear interpolation:\")\n",
    "print(df_interpolated)\n"
   ]
  },
  {
   "cell_type": "raw",
   "id": "f31cd862",
   "metadata": {},
   "source": [
    "5.Using Machine Learning Models:\n",
    "\n",
    "Technique: Train a machine learning model to predict missing values based on other features.\n",
    "Example: (using scikit-learn's IterativeImputer)"
   ]
  },
  {
   "cell_type": "code",
   "execution_count": 7,
   "id": "4504a28a",
   "metadata": {},
   "outputs": [
    {
     "name": "stdout",
     "output_type": "stream",
     "text": [
      "DataFrame after imputation using machine learning:\n",
      "          A         B\n",
      "0  1.000000  5.000000\n",
      "1  2.000000  6.000046\n",
      "2  2.999841  7.000000\n",
      "3  4.000000  8.000000\n"
     ]
    }
   ],
   "source": [
    "import pandas as pd\n",
    "from sklearn.experimental import enable_iterative_imputer\n",
    "from sklearn.impute import IterativeImputer\n",
    "\n",
    "# Create a DataFrame with missing values\n",
    "data = {'A': [1, 2, None, 4],\n",
    "        'B': [5, None, 7, 8]}\n",
    "df = pd.DataFrame(data)\n",
    "\n",
    "# Impute missing values using IterativeImputer\n",
    "imputer = IterativeImputer()\n",
    "df_imputed_ml = pd.DataFrame(imputer.fit_transform(df), columns=df.columns)\n",
    "print(\"DataFrame after imputation using machine learning:\")\n",
    "print(df_imputed_ml)\n"
   ]
  },
  {
   "cell_type": "markdown",
   "id": "f972f065",
   "metadata": {},
   "source": [
    "These are some common techniques for handling missing data in Python. The choice of technique depends on the nature of the data, the amount of missingness, and the characteristics of the problem at hand."
   ]
  },
  {
   "cell_type": "markdown",
   "id": "1974ebff",
   "metadata": {},
   "source": [
    "### Q3: Explain the imbalanced data. What will happen if imbalanced data is not handled?"
   ]
  },
  {
   "cell_type": "raw",
   "id": "ad197791",
   "metadata": {},
   "source": [
    "Imbalanced data refers to a situation in a dataset where the number of instances or observations in one class is much higher or much lower than the number of instances in another class. This is a common issue in machine learning and data mining applications, and it can occur in many real-world problems, such as fraud detection, medical diagnosis, or customer churn prediction.\n",
    "\n",
    "\n",
    "If imbalanced data is not handled, it can lead to biased and inaccurate results. \n",
    "The model trained on imbalanced data will tend to favor the majority class and perform poorly on the minority class. In many cases, the minority class is the one that is of most interest, such as fraud cases or rare diseases. The model may fail to detect the minority class, leading to missed opportunities or wrong decisions.\n",
    "\n",
    "\n",
    "For example, suppose we have a dataset with 1,000 observations, out of which 900 belong to class A and 100 belong to class B. \n",
    "This is an imbalanced dataset because class A has many more observations than class B. If we train a model on this dataset without handling the imbalance, the model may predict all instances as class A, leading to 100% accuracy on class A but 0% accuracy on class B. \n",
    "This is not a useful model for predicting the minority class, and it can lead to costly mistakes."
   ]
  },
  {
   "cell_type": "markdown",
   "id": "198e8e9f",
   "metadata": {},
   "source": [
    "### Q4: What are Up-sampling and Down-sampling? Explain with an example when up-sampling and down- sampling are required."
   ]
  },
  {
   "cell_type": "raw",
   "id": "812a029f",
   "metadata": {},
   "source": [
    "Up-sampling and down-sampling are two common techniques used to handle imbalanced data by modifying the class distribution in a dataset.\n",
    "\n",
    "\n",
    "Up-sampling involves increasing the number of instances in the minority class by creating synthetic examples or replicating existing examples. \n",
    "The goal of up-sampling is to increase the representation of the minority class, making it more comparable to the majority class.\n",
    "\n",
    "\n",
    "Down-sampling, on the other hand, involves decreasing the number of instances in the majority class by randomly removing examples. \n",
    "The goal of down-sampling is to reduce the representation of the majority class, making it more comparable to the minority class.\n"
   ]
  },
  {
   "cell_type": "markdown",
   "id": "78c3d57f",
   "metadata": {},
   "source": [
    "### Q5: What is data Augmentation? Explain SMOTE.### "
   ]
  },
  {
   "cell_type": "markdown",
   "id": "440f4033",
   "metadata": {},
   "source": [
    "Data augmentation is a technique used in machine learning and computer vision to increase the size of a training dataset by creating new examples from existing ones. Data augmentation is useful when the training dataset is small, and the model is prone to overfitting or when the dataset is \n",
    "imbalanced, and some classes have few examples.\n",
    "\n",
    "There are many data augmentation techniques available, such as flipping, rotating, scaling, cropping, and adding noise, among others. \n",
    "These techniques can be applied to images, audio, text, or any other type of data.\n",
    "\n",
    "One popular data augmentation technique for imbalanced datasets is SMOTE (Synthetic Minority Over-sampling Technique). \n",
    "SMOTE is a technique that generates new examples of the minority class by interpolating between existing examples of the minority class.\n"
   ]
  },
  {
   "cell_type": "markdown",
   "id": "8a647ff4",
   "metadata": {},
   "source": [
    "### Q6: What are outliers in a dataset? Why is it essential to handle outliers?"
   ]
  },
  {
   "cell_type": "markdown",
   "id": "addb0f32",
   "metadata": {},
   "source": [
    "Outliers are data points in a dataset that are significantly different from other observations. \n",
    "They can be caused by measurement errors, data entry errors, or they may represent genuine extreme values. \n",
    "Outliers can affect the accuracy and reliability of statistical models and machine learning algorithms, \n",
    "leading to biased results and incorrect predictions.\n",
    "\n",
    "It is essential to handle outliers because they can distort the results of data analysis and modeling. \n",
    "Outliers can influence the mean and standard deviation of the data, making it difficult to determine the true distribution of the data.\n",
    "Outliers can also lead to incorrect conclusions, especially in hypothesis testing or statistical inference. \n",
    "For example, if we are testing the difference between two groups, outliers can affect the results of the test and lead to incorrect conclusions.\n",
    "\n",
    "In machine learning, outliers can affect the performance of algorithms by introducing noise and bias into the model. \n",
    "Outliers can cause overfitting, where the model becomes too complex and fits the noise in the data rather than the underlying pattern. \n",
    "Outliers can also cause underfitting, where the model is too simple and fails to capture the important features of the data.\n",
    "\n"
   ]
  },
  {
   "cell_type": "raw",
   "id": "b44b9382",
   "metadata": {},
   "source": [
    "Z-score method:\n",
    "\n",
    "Z-score is a measure of how many standard deviations an observation is away from the mean. \n",
    "We can identify outliers by calculating the Z-score for each observation and removing any observation with a\n",
    "Z-score greater than a certain threshold."
   ]
  },
  {
   "cell_type": "raw",
   "id": "892753a9",
   "metadata": {},
   "source": [
    "#Interquartile range (IQR) method:\n",
    "IQR is the difference between the third quartile (75th percentile) and the first quartile (25th percentile) of the data. We can identify outliers by calculating the IQR for each feature and removing any observation with a value outside the range of 1.5 times the IQR below the first quartile or above the third quartile."
   ]
  },
  {
   "cell_type": "raw",
   "id": "ab048635",
   "metadata": {},
   "source": [
    "Visualization techniques: \n",
    "We can use visualization techniques such as box plots or scatter plots to identify outliers visually. \n",
    "Box plots can show the distribution of the data and identify any observations outside the whiskers, which represent the range of typical values.\n",
    "Scatter plots can show the relationship between two variables and identify any observations that are far away from the other observations.\n"
   ]
  },
  {
   "cell_type": "raw",
   "id": "675f8b85",
   "metadata": {},
   "source": [
    "Handling outliers can improve the accuracy and reliability of statistical models and machine learning algorithms,leading to better decision-making and more accurate predictions."
   ]
  },
  {
   "cell_type": "markdown",
   "id": "77572fe1",
   "metadata": {},
   "source": [
    "### Q7: You are working on a project that requires analyzing customer data. However, you notice that some of the data is missing. What are some techniques you can use to handle the missing data in your analysis?"
   ]
  },
  {
   "cell_type": "markdown",
   "id": "cfbb2a82",
   "metadata": {},
   "source": [
    "There are several techniques that can be used to handle missing data in customer data analysis:"
   ]
  },
  {
   "cell_type": "raw",
   "id": "45e61f7e",
   "metadata": {},
   "source": [
    "Deletion: \n",
    "In this technique, we simply remove any rows or columns with missing data. This can be done using the dropna() function in pandas. \n",
    "However, this technique can lead to loss of valuable data and may bias the analysis."
   ]
  },
  {
   "cell_type": "raw",
   "id": "4a0bfb9e",
   "metadata": {},
   "source": [
    "Imputation: \n",
    "In this technique, we fill in missing data with estimated values. This can be done using various methods such as mean, median, mode, regression, and k-Nearest Neighbors (k-NN) imputation. For example, we can use the SimpleImputer() class from sklearn library in Python to fill missing values with the mean or median of the available data."
   ]
  },
  {
   "cell_type": "raw",
   "id": "863850f2",
   "metadata": {},
   "source": [
    "Prediction modeling:\n",
    "In this technique, we use machine learning algorithms to predict the missing values based on the available data. \n",
    "For example, we can use decision trees, random forests, or neural networks to predict the missing values."
   ]
  },
  {
   "cell_type": "raw",
   "id": "f497de3c",
   "metadata": {},
   "source": [
    "Interpolation:\n",
    "In this technique, we estimate the missing values by interpolating between the available data points. \n",
    "For example, we can use linear interpolation or spline interpolation to estimate missing values."
   ]
  },
  {
   "cell_type": "raw",
   "id": "889701fa",
   "metadata": {},
   "source": [
    "Domain knowledge: \n",
    "In some cases, we can use domain knowledge or expert opinion to estimate missing values. \n",
    "For example, if we know that the missing values are related to a particular customer segment, we can estimate the values based on the behavior of other customers in that segment."
   ]
  },
  {
   "cell_type": "markdown",
   "id": "ecf1c777",
   "metadata": {},
   "source": [
    "### Q8: You are working with a large dataset and find that a small percentage of the data is missing. What are some strategies you can use to determine if the missing data is missing at random or if there is a pattern to the missing data?"
   ]
  },
  {
   "cell_type": "markdown",
   "id": "e5e840a2",
   "metadata": {},
   "source": [
    "There are several strategies that can be used to determine if the missing data is missing at random or if there is a pattern to \n",
    "\n",
    "\n",
    "the missing data:\n",
    "\n",
    "Descriptive statistics: We can calculate summary statistics for the dataset, such as mean, median, mode, and standard deviation, \n",
    "for both the complete and incomplete cases. If the statistics are similar for the complete and incomplete cases, it suggests that the missing data is missing at random.\n",
    "\n",
    "Visualization: We can use visualization techniques such as scatter plots, histograms, and box plots to compare the distribution of the complete and incomplete cases. If there is a difference in the distribution, it suggests that the missing data is not missing at random.\n",
    "\n",
    "Correlation analysis: We can calculate the correlation between the missing values and other variables in the dataset. \n",
    "If there is a strong correlation, it suggests that the missing data is not missing at random."
   ]
  },
  {
   "cell_type": "markdown",
   "id": "bc5359b2",
   "metadata": {},
   "source": [
    "### Q9: Suppose you are working on a medical diagnosis project and find that the majority of patients in the dataset do not have the condition of interest, while a small percentage do. What are some strategies you can use to evaluate the performance of your machine learning model on this imbalanced dataset?"
   ]
  },
  {
   "cell_type": "markdown",
   "id": "da21d087",
   "metadata": {},
   "source": [
    "Dealing with imbalanced datasets is a common challenge in machine learning. Here are some strategies that can be used to evaluate the performance\n",
    "of machine learning models on imbalanced datasets:\n",
    "\n",
    "Confusion matrix: \n",
    "A confusion matrix provides a summary of the performance of a classification model. We can use this to evaluate the true \n",
    "positive rate, true negative rate, false positive rate, and false negative rate. This helps to evaluate the performance of the model in \n",
    "identifying the minority class.\n",
    "\n",
    "ROC curve:\n",
    "    The Receiver Operating Characteristic (ROC) curve is a graphical representation of the performance of a classification model.\n",
    "It plots the true positive rate (TPR) against the false positive rate (FPR) at various thresholds. This helps to evaluate the model's \n",
    "performance in identifying the minority class.\n",
    "\n",
    "Precision-Recall curve: \n",
    "    The precision-recall curve is another graphical representation of the performance of a classification model. \n",
    "It plots precision against recall at various thresholds. This helps to evaluate the model's performance in identifying the minority class.\n"
   ]
  },
  {
   "cell_type": "markdown",
   "id": "89d94365",
   "metadata": {},
   "source": [
    "### Q10: When attempting to estimate customer satisfaction for a project, you discover that the dataset isunbalanced, with the bulk of customers reporting being satisfied. What methods can you employ tobalance the dataset and down-sample the majority class?"
   ]
  },
  {
   "cell_type": "raw",
   "id": "68839164",
   "metadata": {},
   "source": [
    "To balance an unbalanced dataset with the bulk of customers reporting being satisfied, we can use the following methods to down-sample the majority class:\n",
    "\n",
    "Random under-sampling: \n",
    "In this technique, we randomly select a subset of samples from the majority class to balance the dataset. \n",
    "This method can result in the loss of valuable information.\n",
    "\n",
    "Cluster-based under-sampling: \n",
    "In this technique, we cluster the majority class samples and select a representative subset of samples\n",
    "from each cluster to balance the dataset.\n",
    "\n",
    "Tomek links:\n",
    "In this technique, we identify pairs of samples that are closest to each other but belong to different classes. \n",
    "We then remove the majority class samples from these pairs to balance the dataset.\n",
    "\n",
    "Edited nearest neighbors: \n",
    "In this technique, we remove the majority class samples that are misclassified by their nearest neighbors to balance\n",
    "the dataset."
   ]
  },
  {
   "cell_type": "markdown",
   "id": "c5983242",
   "metadata": {},
   "source": [
    "### Q11: You discover that the dataset is unbalanced with a low percentage of occurrences while working on a project that requires you to estimate the occurrence of a rare event. What methods can you employ tobalance the dataset and up-sample the minority class?"
   ]
  },
  {
   "cell_type": "markdown",
   "id": "a2e65df8",
   "metadata": {},
   "source": [
    "\n",
    "When dealing with imbalanced datasets, where one class (usually the minority class) is underrepresented, it is essential to address the imbalance to prevent the model from being biased towards the majority class. One common approach is to employ resampling techniques, specifically upsampling the minority class. Here are some methods to balance the dataset and up-sample the minority class:"
   ]
  },
  {
   "cell_type": "raw",
   "id": "c20865c0",
   "metadata": {},
   "source": [
    "1.Random Oversampling:\n",
    "\n",
    "Method: Randomly duplicate instances of the minority class to match the size of the majority class.\n",
    "    \n",
    "Example (using Python - scikit-learn):"
   ]
  },
  {
   "cell_type": "raw",
   "id": "c7b14072",
   "metadata": {},
   "source": [
    "from sklearn.utils import resample\n",
    "\n",
    "# Assuming X_train and y_train are your feature and target variables\n",
    "X_train_minority = X_train[y_train == minority_class_label]\n",
    "X_train_majority = X_train[y_train == majority_class_label]\n",
    "\n",
    "# Upsample minority class\n",
    "X_train_minority_upsampled = resample(X_train_minority,\n",
    "                                      replace=True,\n",
    "                                      n_samples=len(X_train_majority),\n",
    "                                      random_state=42)\n",
    "\n",
    "# Combine majority class with upsampled minority class\n",
    "X_train_balanced = pd.concat([X_train_majority, X_train_minority_upsampled])\n"
   ]
  },
  {
   "cell_type": "raw",
   "id": "ab2a8b43",
   "metadata": {},
   "source": [
    "2.SMOTE (Synthetic Minority Over-sampling Technique):\n",
    "\n",
    "Method: Generate synthetic instances of the minority class by interpolating between existing minority class instances.\n",
    "\n",
    "Example (using Python - imbalanced-learn library):\n"
   ]
  },
  {
   "cell_type": "raw",
   "id": "0826b88e",
   "metadata": {},
   "source": [
    "from imblearn.over_sampling import SMOTE\n",
    "\n",
    "smote = SMOTE(random_state=42)\n",
    "X_train_balanced, y_train_balanced = smote.fit_resample(X_train, y_train)\n"
   ]
  },
  {
   "cell_type": "raw",
   "id": "d95edf1f",
   "metadata": {},
   "source": [
    "3.ADASYN (Adaptive Synthetic Sampling):\n",
    "\n",
    "Method: Similar to SMOTE, but it focuses on generating synthetic instances near the decision boundary.\n",
    "\n",
    "Example (using Python - imbalanced-learn library):\n",
    "\n",
    "\n",
    "from imblearn.over_sampling import ADASYN\n",
    "\n",
    "adasyn = ADASYN(random_state=42)\n",
    "X_train_balanced, y_train_balanced = adasyn.fit_resample(X_train, y_train)"
   ]
  },
  {
   "cell_type": "raw",
   "id": "1f70853e",
   "metadata": {},
   "source": [
    "\n"
   ]
  },
  {
   "cell_type": "raw",
   "id": "776e4ada",
   "metadata": {},
   "source": [
    "4.Random Undersampling of Majority Class:\n",
    "\n",
    "Method: Randomly remove instances from the majority class to balance the class distribution.\n",
    "    \n",
    "Example (using Python - scikit-learn):\n",
    "from sklearn.utils import resample\n",
    "\n",
    "# Assuming X_train and y_train are your feature and target variables\n",
    "X_train_majority = X_train[y_train == majority_class_label]\n",
    "X_train_minority = X_train[y_train == minority_class_label]\n",
    "\n",
    "# Undersample majority class\n",
    "X_train_majority_undersampled = resample(X_train_majority,\n",
    "                                         replace=False,\n",
    "                                         n_samples=len(X_train_minority),\n",
    "                                         random_state=42)\n",
    "\n",
    "# Combine undersampled majority class with minority class\n",
    "X_train_balanced = pd.concat([X_train_majority_undersampled, X_train_minority])\n"
   ]
  },
  {
   "cell_type": "raw",
   "id": "4b573c28",
   "metadata": {},
   "source": [
    "Class-Weighted Models:\n",
    "\n",
    "Method: Assign different weights to classes in the model training phase, giving more importance to the minority class.\n",
    "Example (using Python - scikit-learn):\n",
    "    \n",
    "from sklearn.ensemble import RandomForestClassifier\n",
    "\n",
    "# Assuming X_train and y_train are your feature and target variables\n",
    "model = RandomForestClassifier(class_weight='balanced', random_state=42)\n",
    "model.fit(X_train, y_train)\n"
   ]
  },
  {
   "cell_type": "markdown",
   "id": "6a9d520c",
   "metadata": {},
   "source": [
    "Selecting the appropriate method depends on the characteristics of the dataset and the problem at hand. It's often a good idea to experiment with different techniques and evaluate their impact on model performance using metrics such as precision, recall, F1-score, or area under the ROC curve (AUC-ROC)."
   ]
  },
  {
   "cell_type": "code",
   "execution_count": null,
   "id": "9f14a670",
   "metadata": {},
   "outputs": [],
   "source": []
  },
  {
   "cell_type": "code",
   "execution_count": null,
   "id": "76e2ed91",
   "metadata": {},
   "outputs": [],
   "source": []
  },
  {
   "cell_type": "code",
   "execution_count": null,
   "id": "4fbd2177",
   "metadata": {},
   "outputs": [],
   "source": []
  },
  {
   "cell_type": "code",
   "execution_count": null,
   "id": "050bc5d7",
   "metadata": {},
   "outputs": [],
   "source": []
  },
  {
   "cell_type": "code",
   "execution_count": null,
   "id": "e8011fa5",
   "metadata": {},
   "outputs": [],
   "source": []
  },
  {
   "cell_type": "code",
   "execution_count": null,
   "id": "59ff942a",
   "metadata": {},
   "outputs": [],
   "source": []
  },
  {
   "cell_type": "code",
   "execution_count": null,
   "id": "f7a5b8ab",
   "metadata": {},
   "outputs": [],
   "source": []
  },
  {
   "cell_type": "code",
   "execution_count": null,
   "id": "3927efca",
   "metadata": {},
   "outputs": [],
   "source": []
  }
 ],
 "metadata": {
  "kernelspec": {
   "display_name": "Python 3 (ipykernel)",
   "language": "python",
   "name": "python3"
  },
  "language_info": {
   "codemirror_mode": {
    "name": "ipython",
    "version": 3
   },
   "file_extension": ".py",
   "mimetype": "text/x-python",
   "name": "python",
   "nbconvert_exporter": "python",
   "pygments_lexer": "ipython3",
   "version": "3.9.18"
  }
 },
 "nbformat": 4,
 "nbformat_minor": 5
}
