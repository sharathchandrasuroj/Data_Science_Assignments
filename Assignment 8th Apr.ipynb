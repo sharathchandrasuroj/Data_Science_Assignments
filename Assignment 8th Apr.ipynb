{
 "cells": [
  {
   "cell_type": "markdown",
   "id": "d0253fdc",
   "metadata": {},
   "source": [
    "### Q1. You have built an SVM regression model and are trying to decide between using MSE or R-squared as your evaluation metric. Which metric would be more appropriate if your goal is to predict the actual price of a house as accurately as possible?"
   ]
  },
  {
   "cell_type": "markdown",
   "id": "16834d24",
   "metadata": {},
   "source": [
    "#If your goal is to predict the actual price of a house as accurately as possible, Mean Squared Error (MSE) would be the more appropriate evaluation metric.\n",
    "\n",
    "#MSE measures the average squared difference between the predicted and actual values, which is a commonly used metric in regression problems. \n",
    "\n",
    "By minimizing the MSE, you are essentially minimizing the average distance between your predicted values and the actual values, which is a desirable outcome in the case of predicting house prices.\n",
    "\n",
    "On the other hand, R-squared measures the proportion of variance in the target variable (house prices in this case) that can be explained by the independent variables included in the model. While R-squared is a useful metric in many cases, it may not be the best choice when the primary goal is to minimize prediction errors.\n",
    "\n",
    "Therefore, in this case, MSE would be the more appropriate evaluation metric\n",
    "to use."
   ]
  },
  {
   "cell_type": "markdown",
   "id": "28e87bd9",
   "metadata": {},
   "source": [
    "### Q2. You have a dataset with a significant number of outliers and are trying to select an appropriate regression metric to use with your SVM model. Which metric would be the most appropriate in this scenario?"
   ]
  },
  {
   "cell_type": "markdown",
   "id": "07f908d3",
   "metadata": {},
   "source": [
    "#When dealing with a dataset that has a significant number of outliers, Mean Absolute Error (MAE) would be the most appropriate regression metric to use with your SVM model.\n",
    "\n",
    "MAE measures the absolute difference between the predicted and actual values  and is less sensitive to outliers compared to other regression metrics such as Mean Squared Error (MSE) or Root Mean Squared Error (RMSE).\n",
    "\n",
    "#MSE and RMSE place a higher weight on large errors, which can be greatly influenced by outliers. This can result in an inaccurate assessment of the model's performance.\n",
    "\n",
    "#On the other hand, MAE gives equal weight to all errors, regardless of their magnitude. This makes it a more robust metric to use when dealing with \n",
    "datasets that have a significant number of outliers.\n",
    "\n",
    "#Therefore, when dealing with a dataset with a significant number of outliers,MAE would be the most appropriate regression metric to use with an SVM model.\n"
   ]
  },
  {
   "cell_type": "markdown",
   "id": "388fbdae",
   "metadata": {},
   "source": [
    "### Q3. You have built an SVM regression model using a polynomial kernel and are trying to select the best metric to evaluate its performance. You have calculated both MSE and RMSE and found that both values are very close. Which metric should you choose to use in this case?"
   ]
  },
  {
   "cell_type": "markdown",
   "id": "0f4cc917",
   "metadata": {},
   "source": [
    "#If both Mean Squared Error (MSE) and Root Mean Squared Error (RMSE) are very\n",
    "close in value, either metric could be chosen to evaluate the performance of \n",
    "the SVM regression model with polynomial kernel.\n",
    "\n",
    "#However, RMSE is generally preferred over MSE because it has the advantage of being on the same scale as the target variable (y-axis) and is thus easier to interpret. Additionally, RMSE has a higher penalty for large errors due to the square term, which can be useful when dealing with outliers.\n",
    "\n",
    "#Therefore, in this case, if both MSE and RMSE are very close, you could choose RMSE as the evaluation metric to use for your SVM regression model with a polynomial kernel."
   ]
  },
  {
   "cell_type": "markdown",
   "id": "9dbadf2b",
   "metadata": {},
   "source": [
    "### Q4.You are comparing the performance of different SVM regression models using different kernels (linear, polynomial, and RBF) and are trying to select the best evaluation metric. Which metric would be most appropriate if your goal is to measure how well the model explains the variance in the target variable?"
   ]
  },
  {
   "cell_type": "markdown",
   "id": "3f0f1dce",
   "metadata": {},
   "source": [
    "#If the goal is to measure how well the model explains the variance in the target variable, then the most appropriate evaluation metric to use would be\n",
    "the coefficient of determination, also known as R-squared.\n",
    "\n",
    "#R-squared measures the proportion of variance in the target variable (y) that can be explained by the independent variables (X) in the model. Therefore, it is a good measure of how well the model is capturing the underlying relationships between the features and the target variable.\n",
    "\n",
    "#When comparing the performance of different SVM regression models with different kernels (linear, polynomial, and RBF), R-squared would be the most\n",
    "appropriate evaluation metric to use to compare the models in terms of how \n",
    "well they explain the variance in the target variable.\n",
    "\n",
    "#Note that while R-squared is a useful metric for evaluating the performance\n",
    "of regression models, it should be used in conjunction with other metrics \n",
    "such as Mean Squared Error (MSE) and Root Mean Squared Error (RMSE) to get\n",
    "a complete picture of the model's performance."
   ]
  },
  {
   "cell_type": "code",
   "execution_count": null,
   "id": "8e8f1f29",
   "metadata": {},
   "outputs": [],
   "source": []
  },
  {
   "cell_type": "code",
   "execution_count": null,
   "id": "365ea855",
   "metadata": {},
   "outputs": [],
   "source": []
  },
  {
   "cell_type": "code",
   "execution_count": null,
   "id": "eb63d468",
   "metadata": {},
   "outputs": [],
   "source": []
  },
  {
   "cell_type": "code",
   "execution_count": null,
   "id": "242caed3",
   "metadata": {},
   "outputs": [],
   "source": []
  },
  {
   "cell_type": "code",
   "execution_count": null,
   "id": "23f6d1ef",
   "metadata": {},
   "outputs": [],
   "source": []
  },
  {
   "cell_type": "code",
   "execution_count": null,
   "id": "bad12195",
   "metadata": {},
   "outputs": [],
   "source": []
  },
  {
   "cell_type": "code",
   "execution_count": null,
   "id": "b0b79776",
   "metadata": {},
   "outputs": [],
   "source": []
  },
  {
   "cell_type": "code",
   "execution_count": null,
   "id": "725a5cba",
   "metadata": {},
   "outputs": [],
   "source": []
  },
  {
   "cell_type": "code",
   "execution_count": null,
   "id": "59a10ca9",
   "metadata": {},
   "outputs": [],
   "source": []
  },
  {
   "cell_type": "code",
   "execution_count": null,
   "id": "2edf611d",
   "metadata": {},
   "outputs": [],
   "source": []
  },
  {
   "cell_type": "code",
   "execution_count": null,
   "id": "fe3ce853",
   "metadata": {},
   "outputs": [],
   "source": []
  },
  {
   "cell_type": "code",
   "execution_count": null,
   "id": "be75b004",
   "metadata": {},
   "outputs": [],
   "source": []
  },
  {
   "cell_type": "code",
   "execution_count": null,
   "id": "795f5d8e",
   "metadata": {},
   "outputs": [],
   "source": []
  },
  {
   "cell_type": "code",
   "execution_count": null,
   "id": "ae2688de",
   "metadata": {},
   "outputs": [],
   "source": []
  },
  {
   "cell_type": "code",
   "execution_count": null,
   "id": "4fdef28b",
   "metadata": {},
   "outputs": [],
   "source": []
  },
  {
   "cell_type": "code",
   "execution_count": null,
   "id": "525cef5a",
   "metadata": {},
   "outputs": [],
   "source": []
  },
  {
   "cell_type": "code",
   "execution_count": null,
   "id": "2efe3297",
   "metadata": {},
   "outputs": [],
   "source": []
  },
  {
   "cell_type": "code",
   "execution_count": null,
   "id": "a21d306c",
   "metadata": {},
   "outputs": [],
   "source": []
  },
  {
   "cell_type": "code",
   "execution_count": null,
   "id": "205dab10",
   "metadata": {},
   "outputs": [],
   "source": []
  },
  {
   "cell_type": "code",
   "execution_count": null,
   "id": "88ad74c7",
   "metadata": {},
   "outputs": [],
   "source": []
  },
  {
   "cell_type": "code",
   "execution_count": null,
   "id": "2b6eb2e1",
   "metadata": {},
   "outputs": [],
   "source": []
  },
  {
   "cell_type": "code",
   "execution_count": null,
   "id": "a4ea4712",
   "metadata": {},
   "outputs": [],
   "source": []
  },
  {
   "cell_type": "code",
   "execution_count": null,
   "id": "4db962cb",
   "metadata": {},
   "outputs": [],
   "source": []
  },
  {
   "cell_type": "code",
   "execution_count": null,
   "id": "e92b35d8",
   "metadata": {},
   "outputs": [],
   "source": []
  },
  {
   "cell_type": "code",
   "execution_count": null,
   "id": "33c14045",
   "metadata": {},
   "outputs": [],
   "source": []
  }
 ],
 "metadata": {
  "kernelspec": {
   "display_name": "Python 3 (ipykernel)",
   "language": "python",
   "name": "python3"
  },
  "language_info": {
   "codemirror_mode": {
    "name": "ipython",
    "version": 3
   },
   "file_extension": ".py",
   "mimetype": "text/x-python",
   "name": "python",
   "nbconvert_exporter": "python",
   "pygments_lexer": "ipython3",
   "version": "3.9.18"
  }
 },
 "nbformat": 4,
 "nbformat_minor": 5
}
