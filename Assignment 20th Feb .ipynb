{
 "cells": [
  {
   "cell_type": "markdown",
   "id": "0073c2f7",
   "metadata": {},
   "source": [
    "### Q1. Explain GET and POST methods."
   ]
  },
  {
   "cell_type": "raw",
   "id": "9b8fafc4",
   "metadata": {},
   "source": [
    "Get method is used to get data from server\n",
    "While post method is used to post data to server\n",
    "Both are used inside app routing"
   ]
  },
  {
   "cell_type": "markdown",
   "id": "f415de98",
   "metadata": {},
   "source": [
    "### Q2. Why is request used in Flask?"
   ]
  },
  {
   "cell_type": "raw",
   "id": "e3fde367",
   "metadata": {},
   "source": [
    "Request is used to request data from incoming get method \n",
    "Request is used to get data from client to server it can be extracted by get and post method\n"
   ]
  },
  {
   "cell_type": "markdown",
   "id": "36b98148",
   "metadata": {},
   "source": [
    "### Q3. Why is redirect() used in Flask?"
   ]
  },
  {
   "cell_type": "raw",
   "id": "89dd0cbc",
   "metadata": {},
   "source": [
    "This is used for dynamic URL building\n",
    "With the help of this redirect() method we can divert out website to required one\n",
    "It redirects the user to other target location depending on condition"
   ]
  },
  {
   "cell_type": "markdown",
   "id": "95c50060",
   "metadata": {},
   "source": [
    "### Q4. What are templates in Flask? Why is the render_template() function used?"
   ]
  },
  {
   "cell_type": "raw",
   "id": "06e63dbc",
   "metadata": {},
   "source": [
    "Templates are used to divert and make use of other web pages\n",
    "We can render other web pages and get connected to that using render templates\n",
    "It provides function through which we can pass html or any other file\n",
    "Along with it we can even pass parameter we want to use in that web page"
   ]
  },
  {
   "cell_type": "markdown",
   "id": "b381fbd1",
   "metadata": {},
   "source": [
    "### Q5. Create a simple API. Use Postman to test it. Attach the screenshot of the output in the Jupyter Notebook"
   ]
  },
  {
   "cell_type": "raw",
   "id": "aaecfd80",
   "metadata": {},
   "source": [
    "from flask import Flask,redirect,url_for,render_template,request,jsonify\n",
    "\n",
    "app=Flask(__name__)\n",
    "\n",
    "@app.route(\"/postman_action\",methods=[\"POST\"])\n",
    "def submit():\n",
    "    if request.method==\"POST\":\n",
    "        science=int(request.json[\"science\"])\n",
    "        math=int(request.json[\"math\"])\n",
    "        java=int(request.json[\"java\"])\n",
    "        name=(request.json[\"name\"])\n",
    "        if(((science>=0) and (science<=100) ) and ((math>=0) and (math<=100) ) and ((java>=0) and (java<=100))):\n",
    "            percentage=round((science+math+java)/3,2)\n",
    "            if(percentage<35):\n",
    "                result=f\"{name} you failed better luck next time!!!\"\n",
    "            elif(percentage<50):\n",
    "                result=f\"Congrats {name} you got C grade and {percentage}% percentage!!!\"\n",
    "            elif(percentage<70):\n",
    "                result=f\"Congrats {name} you got B grade and {percentage}% percentage!!!\"\n",
    "            elif(percentage<90):\n",
    "                result=f\"Congrats {name} you got A grade and {percentage}% percentage!!!\"\n",
    "            elif(percentage<=100):\n",
    "                result=f\"Congrats {name} you got S grade and {percentage}% percentage!!!\"\n",
    "        else:\n",
    "            result=\"Invalid Input\"\n",
    "        return(jsonify(result))\n",
    "\n",
    "if __name__ == \"__main__\":\n",
    "    app.run(host=\"0.0.0.0\")\n",
    "\n"
   ]
  },
  {
   "cell_type": "code",
   "execution_count": null,
   "id": "e839f996",
   "metadata": {},
   "outputs": [],
   "source": []
  },
  {
   "cell_type": "code",
   "execution_count": null,
   "id": "879876df",
   "metadata": {},
   "outputs": [],
   "source": []
  },
  {
   "cell_type": "code",
   "execution_count": null,
   "id": "d5a902dd",
   "metadata": {},
   "outputs": [],
   "source": []
  },
  {
   "cell_type": "code",
   "execution_count": null,
   "id": "a6250f20",
   "metadata": {},
   "outputs": [],
   "source": []
  }
 ],
 "metadata": {
  "kernelspec": {
   "display_name": "Python 3 (ipykernel)",
   "language": "python",
   "name": "python3"
  },
  "language_info": {
   "codemirror_mode": {
    "name": "ipython",
    "version": 3
   },
   "file_extension": ".py",
   "mimetype": "text/x-python",
   "name": "python",
   "nbconvert_exporter": "python",
   "pygments_lexer": "ipython3",
   "version": "3.9.18"
  }
 },
 "nbformat": 4,
 "nbformat_minor": 5
}
