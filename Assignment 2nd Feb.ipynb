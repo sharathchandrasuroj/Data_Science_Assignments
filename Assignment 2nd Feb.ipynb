{
 "cells": [
  {
   "cell_type": "markdown",
   "id": "3be135a7",
   "metadata": {},
   "source": [
    "### Q1. What are the characteristics of the tuples? Is tuple immutable?"
   ]
  },
  {
   "cell_type": "raw",
   "id": "e21dff1b",
   "metadata": {},
   "source": [
    "Tuples are data structure in python. Round brackets are used to represent tuple.\n",
    "Tuple is immutable that is we cannot manipulate data in tuple unlike list though we can iterate.\n"
   ]
  },
  {
   "cell_type": "markdown",
   "id": "c0e094b5",
   "metadata": {},
   "source": [
    "### Q2. What are the two tuple methods in python? Give an example of each method. Give a reason why tuples have only two in-built methods as compared to Lists."
   ]
  },
  {
   "cell_type": "raw",
   "id": "6220271c",
   "metadata": {},
   "source": [
    "Eg:\n",
    "t=(1,1,1,1,1,3,4,5,2,5,5)\n",
    "print(t.index(5))\n",
    "As Tuple is immutable so we can’t manipulate tuple value so we have only two in built methods in \n",
    "tuple compared to list"
   ]
  },
  {
   "cell_type": "markdown",
   "id": "db190719",
   "metadata": {},
   "source": [
    "### Q3. Which collection datatypes in python do not allow duplicate items? Write a code using a set to removeduplicates from the given list.                                                                                                            List = [1, 1, 1, 2, 1, 3, 1, 4, 2, 1, 2, 2, 2, 3, 2, 4, 3, 1, 3, 2, 3, 3, 3, 4, 4, 1, 4, 2, 4, 3, 4, 4]"
   ]
  },
  {
   "cell_type": "raw",
   "id": "5f8b11aa",
   "metadata": {},
   "source": [
    "Sets data structure in python do not allow duplicate element"
   ]
  },
  {
   "cell_type": "code",
   "execution_count": 7,
   "id": "cb5ee8c3",
   "metadata": {},
   "outputs": [
    {
     "name": "stdout",
     "output_type": "stream",
     "text": [
      "[1, 2, 3, 4]\n"
     ]
    }
   ],
   "source": [
    "\n",
    "\n",
    "lst = [1, 1, 1, 2, 1, 3, 1, 4, 2, 1, 2, 2, 2, 3, 2, 4, 3, 1, 3, 2, 3, 3, 3, 4, 4, 1, 4, 2, 4, 3, 4, 4]\n",
    "s=set(lst)\n",
    "lst=list(s)\n",
    "print(lst)"
   ]
  },
  {
   "cell_type": "markdown",
   "id": "b143770e",
   "metadata": {},
   "source": [
    "### Q4. Explain the difference between the union() and update() methods for a set. Give an example of each method."
   ]
  },
  {
   "cell_type": "raw",
   "id": "622370f7",
   "metadata": {},
   "source": [
    ">Union operation is done on two sets it give union of two sets\n",
    "While update operation updates previous set by new set \n",
    "Union is not inplace operation while update is inplace operation\n"
   ]
  },
  {
   "cell_type": "code",
   "execution_count": 8,
   "id": "d66fc943",
   "metadata": {},
   "outputs": [
    {
     "name": "stdout",
     "output_type": "stream",
     "text": [
      "{1, 2, 3, 4, 5, 6, 8, 9}\n",
      "{1, 2, 3, 4, 5, 6, 8, 9}\n"
     ]
    }
   ],
   "source": [
    "s1={1,3,5,9}\n",
    "s2={2,4,6,8}\n",
    "s1.update(s2)\n",
    "print(s1)\n",
    "s2={2,4,6,8}\n",
    "print(s1.union(s2))\n"
   ]
  },
  {
   "cell_type": "markdown",
   "id": "22b62e3a",
   "metadata": {},
   "source": [
    "### 5. What is a dictionary? Give an example. Also, state whether a dictionary is ordered or unordered."
   ]
  },
  {
   "cell_type": "raw",
   "id": "5b625279",
   "metadata": {},
   "source": [
    "> Dictionary is collection of key value pair in built data structure in python\n",
    "Dictionary does not have indexing so it is unordered in nature unlike list ,tuple and sets"
   ]
  },
  {
   "cell_type": "markdown",
   "id": "ffd9a746",
   "metadata": {},
   "source": [
    "### 6. Can we create a nested dictionary? If so, please give an example by creating a simple one-level nested dictionary"
   ]
  },
  {
   "cell_type": "raw",
   "id": "ebea021b",
   "metadata": {},
   "source": [
    "Yes we can create a nested dictionary"
   ]
  },
  {
   "cell_type": "code",
   "execution_count": 11,
   "id": "45c9c117",
   "metadata": {},
   "outputs": [
    {
     "name": "stdout",
     "output_type": "stream",
     "text": [
      "{'a': 1, 2: 3, 4: 5, 6: 7, 8: 9, 11: {12, 13, 14, 15, 16, 17, 18, 19}}\n"
     ]
    }
   ],
   "source": [
    "\n",
    "\n",
    "\n",
    "d={\"a\":1,2:3,4:5,6:7,8:9}\n",
    "d[11]={12,13,14,15,16,17,18,19}\n",
    "print(d)\n"
   ]
  },
  {
   "cell_type": "markdown",
   "id": "4f4f3086",
   "metadata": {},
   "source": [
    "### 7. Using setdefault() method, create key named topics in the given dictionary and also add the value of the key as this list\n",
    "['Python', 'Machine Learning’, 'Deep Learning']\n"
   ]
  },
  {
   "cell_type": "code",
   "execution_count": 12,
   "id": "28876f6a",
   "metadata": {},
   "outputs": [
    {
     "name": "stdout",
     "output_type": "stream",
     "text": [
      "{'language': 'Python', 'course': 'Data Science Masters', 'topics': ['Python', 'Machine Learning', ' Deep Learning']}\n"
     ]
    }
   ],
   "source": [
    "dict1 = {'language' : 'Python', 'course': 'Data Science Masters'}\n",
    "dict1.setdefault(\"topics\",['Python', 'Machine Learning',' Deep Learning'])\n",
    "print(dict1)"
   ]
  },
  {
   "cell_type": "markdown",
   "id": "ba64e62e",
   "metadata": {},
   "source": [
    "### 8. What are the three view objects in dictionaries? Use the three in-built methods in python to display these three view objects for the given dictionary\n",
    "\n",
    "dict1 = {'Sport': 'Cricket' , 'Teams': ['India', 'Australia', 'England', 'South Africa', 'Sri Lanka', 'New \n",
    "Zealand']}\n"
   ]
  },
  {
   "cell_type": "raw",
   "id": "40b8a3b6",
   "metadata": {},
   "source": [
    "keys Values and Items are the three view objects in python dictionary"
   ]
  },
  {
   "cell_type": "raw",
   "id": "5dda33db",
   "metadata": {},
   "source": [
    "dict1 = {'Sport': 'Cricket' , 'Teams': ['India', 'Australia', 'England', 'South Africa', 'Sri Lanka', 'New Zealand']}\n",
    "                                        \n",
    "print(f\"View -1 Keys : {dict1.keys()}\\nView -2 Values : {dict1.values()}\\nView -3 Items : \n",
    "{dict1.items()}\")"
   ]
  },
  {
   "cell_type": "code",
   "execution_count": null,
   "id": "84483674",
   "metadata": {},
   "outputs": [],
   "source": []
  },
  {
   "cell_type": "code",
   "execution_count": null,
   "id": "ca54262e",
   "metadata": {},
   "outputs": [],
   "source": []
  },
  {
   "cell_type": "code",
   "execution_count": null,
   "id": "a93c3ed1",
   "metadata": {},
   "outputs": [],
   "source": []
  },
  {
   "cell_type": "code",
   "execution_count": null,
   "id": "713ad3d5",
   "metadata": {},
   "outputs": [],
   "source": []
  }
 ],
 "metadata": {
  "kernelspec": {
   "display_name": "Python 3 (ipykernel)",
   "language": "python",
   "name": "python3"
  },
  "language_info": {
   "codemirror_mode": {
    "name": "ipython",
    "version": 3
   },
   "file_extension": ".py",
   "mimetype": "text/x-python",
   "name": "python",
   "nbconvert_exporter": "python",
   "pygments_lexer": "ipython3",
   "version": "3.9.18"
  }
 },
 "nbformat": 4,
 "nbformat_minor": 5
}
