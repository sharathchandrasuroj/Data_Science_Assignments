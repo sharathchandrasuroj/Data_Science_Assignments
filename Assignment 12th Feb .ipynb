{
 "cells": [
  {
   "cell_type": "markdown",
   "id": "8a652f98",
   "metadata": {},
   "source": [
    "### Q1. What is an Expeption handeling in python? Write the differene between Exceptions and Syntax errors?"
   ]
  },
  {
   "cell_type": "markdown",
   "id": "0538ee5f",
   "metadata": {},
   "source": [
    "Exception handling in Python is a mechanism that allows you to deal with runtime errors or exceptional situations in a controlled and graceful way. When an error occurs during the execution of a program, Python raises an exception, which is a signal that something unexpected or erroneous has happened. By using exception handling, you can catch and handle these exceptions, preventing the program from abruptly terminating.\n",
    "\n",
    "\n",
    "The key components of exception handling in Python include the try, except, else, and finally blocks:\n",
    "\n",
    "try block: Contains the code that might raise an exception.\n",
    "\n",
    "except block: Specifies what to do when a specific exception is encountered.\n",
    "\n",
    "else block: Executed when no exceptions are raised in the try block.\n",
    "\n",
    "finally block: Executed regardless of whether an exception occurred or not, typically used for cleanup operations"
   ]
  },
  {
   "cell_type": "code",
   "execution_count": 1,
   "id": "d427bdc5",
   "metadata": {},
   "outputs": [
    {
     "name": "stdout",
     "output_type": "stream",
     "text": [
      "Cannot divide by zero.\n",
      "This will always be executed.\n"
     ]
    }
   ],
   "source": [
    "try:\n",
    "    # Code that might raise an exception\n",
    "    result = 10 / 0\n",
    "except ZeroDivisionError:\n",
    "    # Handle a specific exception (division by zero in this case)\n",
    "    print(\"Cannot divide by zero.\")\n",
    "else:\n",
    "    # Executed when no exceptions are raised\n",
    "    print(\"Division successful.\")\n",
    "finally:\n",
    "    # Executed regardless of whether an exception occurred or not\n",
    "    print(\"This will always be executed.\")\n"
   ]
  },
  {
   "cell_type": "raw",
   "id": "deb1ffcf",
   "metadata": {},
   "source": [
    "Difference Between Exceptions and Syntax Errors:"
   ]
  },
  {
   "cell_type": "markdown",
   "id": "c136d10a",
   "metadata": {},
   "source": [
    "#1.Cause:\n",
    "\n",
    "Exception: Occurs during the execution of the program, often due to user input, external factors, or unexpected conditions.\n",
    "\n",
    "Syntax Error: Occurs at the time of code compilation and is caused by a violation of the Python syntax rules.\n",
    "\n",
    "    \n",
    "2.Handling:\n",
    "\n",
    "\n",
    "Exception: Handled using try, except, else, and finally blocks in runtime.\n",
    "Syntax Error: Must be corrected before the code is executed; it cannot be caught or handled during runtime.\n",
    "\n",
    "    \n",
    "3.Example:\n",
    "\n",
    "Exception: Division by zero, accessing an undefined variable, etc.\n",
    "Syntax Error: Misspelled keywords, missing colons, unmatched parentheses, etc.\n",
    "\n",
    "    \n",
    "4.Timing:\n",
    "\n",
    "Exception: Detected during the execution of the program.\n",
    "Syntax Error: Detected during the compilation phase before the program starts running."
   ]
  },
  {
   "cell_type": "markdown",
   "id": "a280bc2b",
   "metadata": {},
   "source": [
    "### Q2. What happens when an exception is not handled? Explin with an example"
   ]
  },
  {
   "cell_type": "raw",
   "id": "ff30ca05",
   "metadata": {},
   "source": [
    "We encounter error at run time if this happens"
   ]
  },
  {
   "cell_type": "code",
   "execution_count": 5,
   "id": "a9ec4e72",
   "metadata": {},
   "outputs": [
    {
     "ename": "IndexError",
     "evalue": "pop from empty list",
     "output_type": "error",
     "traceback": [
      "\u001b[1;31m---------------------------------------------------------------------------\u001b[0m",
      "\u001b[1;31mIndexError\u001b[0m                                Traceback (most recent call last)",
      "Cell \u001b[1;32mIn[5], line 2\u001b[0m\n\u001b[0;32m      1\u001b[0m l\u001b[38;5;241m=\u001b[39m[]\n\u001b[1;32m----> 2\u001b[0m \u001b[43ml\u001b[49m\u001b[38;5;241;43m.\u001b[39;49m\u001b[43mpop\u001b[49m\u001b[43m(\u001b[49m\u001b[43m)\u001b[49m\n",
      "\u001b[1;31mIndexError\u001b[0m: pop from empty list"
     ]
    }
   ],
   "source": [
    "l=[]\n",
    "l.pop()\n",
    "#This will give IndexError"
   ]
  },
  {
   "cell_type": "code",
   "execution_count": 6,
   "id": "b668cbe4",
   "metadata": {},
   "outputs": [
    {
     "name": "stdout",
     "output_type": "stream",
     "text": [
      "Exception :  pop from empty list\n"
     ]
    }
   ],
   "source": [
    "try:\n",
    "    l=[]\n",
    "    l.pop()\n",
    "except Exception as e:\n",
    "    print(\"Exception : \", e)"
   ]
  },
  {
   "cell_type": "markdown",
   "id": "8b9d3065",
   "metadata": {},
   "source": [
    "### Q3. Which Python sttements are used to catch and handle exceptions? Explain with an example"
   ]
  },
  {
   "cell_type": "markdown",
   "id": "3adf3e15",
   "metadata": {},
   "source": [
    "We use try and except block to handle and catch exception respectively we also use else and finally block with it\n",
    "Here try and else block are executed only if exception is not raised and if exception occurs it goes and executes except block\n",
    "While finally block executes in all cases"
   ]
  },
  {
   "cell_type": "code",
   "execution_count": 7,
   "id": "dba906c4",
   "metadata": {},
   "outputs": [
    {
     "name": "stdout",
     "output_type": "stream",
     "text": [
      "Error Occurred -  [Errno 2] No such file or directory: 'MyFile.txt'\n",
      "Always executed\n"
     ]
    }
   ],
   "source": [
    "try:\n",
    "    with open(\"MyFile.txt\",\"r\") as f:\n",
    "        f.read()\n",
    "except FileNotFoundError as e:\n",
    "    print(\"Error Occurred - \",e)\n",
    "else:\n",
    "    f.close()\n",
    "finally:\n",
    "    print(\"Always executed\")"
   ]
  },
  {
   "cell_type": "markdown",
   "id": "2529a547",
   "metadata": {},
   "source": [
    "### Q4. Explin with an example:\n",
    "\n",
    "a) try and else\n",
    "\n",
    "b)finally\n",
    "\n",
    "c)raise"
   ]
  },
  {
   "cell_type": "raw",
   "id": "a9e631dc",
   "metadata": {},
   "source": [
    "a)Try and else\n",
    "\n",
    "Try block gets executed whenever error does not occur\n",
    "Whenever try gets executed with it else gets executed"
   ]
  },
  {
   "cell_type": "code",
   "execution_count": 8,
   "id": "8911d5f1",
   "metadata": {},
   "outputs": [],
   "source": [
    "try:\n",
    "    with open(\"MyFile.txt\",\"w\") as f:\n",
    "        f.write(\"I want to become data scientist\")\n",
    "except FileNotFoundError as e:\n",
    "    print(\"Error Occurred - \",e)\n",
    "else:\n",
    "    f.close()"
   ]
  },
  {
   "cell_type": "raw",
   "id": "236af80e",
   "metadata": {},
   "source": [
    "b)Finally\n",
    "\n",
    "Finally gets executed even if error occurs or it dosen't\n",
    "So we can print our important message in finally block\n",
    "It occurs with try and else as well as with except block"
   ]
  },
  {
   "cell_type": "code",
   "execution_count": 9,
   "id": "6ff069d4",
   "metadata": {},
   "outputs": [
    {
     "name": "stdout",
     "output_type": "stream",
     "text": [
      "Always executed\n"
     ]
    }
   ],
   "source": [
    "try:\n",
    "    with open(\"MyFile.txt\",\"r\") as f:\n",
    "        f.read()\n",
    "except FileNotFoundError as e:\n",
    "    print(\"Error Occurred - \",e)\n",
    "else:\n",
    "    f.close()\n",
    "finally:\n",
    "    print(\"Always executed\")"
   ]
  },
  {
   "cell_type": "code",
   "execution_count": 10,
   "id": "1eb0c0be",
   "metadata": {},
   "outputs": [
    {
     "name": "stdout",
     "output_type": "stream",
     "text": [
      "Enter Even Number : 123456\n",
      "Valid Number\n"
     ]
    }
   ],
   "source": [
    "class MyError(Exception):\n",
    "    def __init__(self,msg):\n",
    "        self.msg=msg\n",
    "\n",
    "def func(even):\n",
    "    if(even%2==0):\n",
    "        print(\"Valid Number\")\n",
    "    else:\n",
    "        raise MyError(\"Enter Even Number!!!\")\n",
    "\n",
    "try:\n",
    "    even=int(input(\"Enter Even Number : \"))\n",
    "    func(even)\n",
    "except MyError as e:\n",
    "    print(e)"
   ]
  },
  {
   "cell_type": "markdown",
   "id": "4ed16e2e",
   "metadata": {},
   "source": [
    "### Q5. What are Custom Exceptions in python? Why do we need Custom Exceptions? Explain it with an example\n"
   ]
  },
  {
   "cell_type": "raw",
   "id": "46820a38",
   "metadata": {},
   "source": [
    "Custom exception funciton in python allows us to create our own exceptions\n",
    "Example if we want to resrtrict user to enter mobile digit of only 10 digits"
   ]
  },
  {
   "cell_type": "code",
   "execution_count": 12,
   "id": "d5cb9fee",
   "metadata": {},
   "outputs": [
    {
     "name": "stdout",
     "output_type": "stream",
     "text": [
      "Enter Indian Mobile Number : 9849098490\n",
      "Valid Number\n"
     ]
    }
   ],
   "source": [
    "class MyError(Exception):\n",
    "    def __init__(self,msg):\n",
    "        self.msg=msg\n",
    "\n",
    "def func(mobile_number):\n",
    "    if(len(mobile_number)==10):\n",
    "        print(\"Valid Number\")\n",
    "    else:\n",
    "        raise MyError(\"Enter Valid Mobile Number!!!\")\n",
    "\n",
    "try:\n",
    "    mobile_number=(input(\"Enter Indian Mobile Number : \"))\n",
    "    func(mobile_number)\n",
    "except MyError as e:\n",
    "    print(e)"
   ]
  },
  {
   "cell_type": "markdown",
   "id": "cf8dbdcc",
   "metadata": {},
   "source": [
    "### Q6. Create custom exception class. Use this class to handle an exception."
   ]
  },
  {
   "cell_type": "raw",
   "id": "f2b94a95",
   "metadata": {},
   "source": [
    "We will create custom class to take only multiples of 5 from user\n",
    "And will raise error when he enters numbers which are not divisible by 5"
   ]
  },
  {
   "cell_type": "code",
   "execution_count": 13,
   "id": "a59a6174",
   "metadata": {},
   "outputs": [
    {
     "name": "stdout",
     "output_type": "stream",
     "text": [
      "Enter Indian Mobile Number : 9849098490\n",
      "Valid Number\n"
     ]
    }
   ],
   "source": [
    "class MyError(Exception):\n",
    "    def __init__(self,msg):\n",
    "        self.msg=msg\n",
    "\n",
    "def func(number):\n",
    "    if((number)%5==0):\n",
    "        print(\"Valid Number\")\n",
    "    else:\n",
    "        raise MyError(\"Enter Multiple of Five Number !!!\")\n",
    "\n",
    "try:\n",
    "    number=int(input(\"Enter Indian Mobile Number : \"))\n",
    "    func(number)\n",
    "except MyError as e:\n",
    "    print(e)"
   ]
  },
  {
   "cell_type": "code",
   "execution_count": null,
   "id": "29fc966e",
   "metadata": {},
   "outputs": [],
   "source": []
  },
  {
   "cell_type": "code",
   "execution_count": null,
   "id": "aecadf2b",
   "metadata": {},
   "outputs": [],
   "source": []
  }
 ],
 "metadata": {
  "kernelspec": {
   "display_name": "Python 3 (ipykernel)",
   "language": "python",
   "name": "python3"
  },
  "language_info": {
   "codemirror_mode": {
    "name": "ipython",
    "version": 3
   },
   "file_extension": ".py",
   "mimetype": "text/x-python",
   "name": "python",
   "nbconvert_exporter": "python",
   "pygments_lexer": "ipython3",
   "version": "3.9.18"
  }
 },
 "nbformat": 4,
 "nbformat_minor": 5
}
