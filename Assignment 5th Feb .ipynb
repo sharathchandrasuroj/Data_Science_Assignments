{
 "cells": [
  {
   "cell_type": "markdown",
   "id": "12d4bdba",
   "metadata": {},
   "source": [
    "### .1)Explain Class and Object with respect to Object-Oriented Programming. Give a suitable example"
   ]
  },
  {
   "cell_type": "raw",
   "id": "b63aea4d",
   "metadata": {},
   "source": [
    "Classes are the inbuilt datatypes in python\n",
    "We invoke class methods using objects.\n",
    "Example let suppose Pw skills is class we can consider student as it’s object each student will have \n",
    "address mobile number email id enrolled in class."
   ]
  },
  {
   "cell_type": "raw",
   "id": "539c51fc",
   "metadata": {},
   "source": [
    "class pwskills1:\n",
    "    def __init__(self,phone_number,email_id,student_id): \n",
    "        self.phone_number=phone_number #Here LHS is our attribute class tries to understand the LHS side\n",
    "        self.email_id=email_id\n",
    "        self.student_id=student_id\n",
    "        \n",
    "def return_student_details(self):\n",
    "     return (self.phone_number,self.phone_number,self.student_id)\n",
    "#Here init is constructor in class which will take data in class while object is creator everytime\n",
    "\n",
    "rohan=pwskills1(123456789,\"sharath@gmail.com\",\"vl2134rl\") #This arguments given passed for init constructor\n",
    "\n",
    "rohan.return_student_details()"
   ]
  },
  {
   "cell_type": "markdown",
   "id": "e0a0b932",
   "metadata": {},
   "source": [
    "### .2)Name the four pillars of OOPs."
   ]
  },
  {
   "cell_type": "raw",
   "id": "82b1cda1",
   "metadata": {},
   "source": [
    "Inheritance,plolymorphism,encapsulation and abstraction are four pillars of OOPS in python\n"
   ]
  },
  {
   "cell_type": "markdown",
   "id": "2212a528",
   "metadata": {},
   "source": [
    "### 3)Explain why the __init__() function is used. Give a suitable example"
   ]
  },
  {
   "cell_type": "raw",
   "id": "c3d6641c",
   "metadata": {},
   "source": [
    "It is used as a constructor we can pass arguments of object in class it is passed to constructor \n",
    "init method / function in class it is then stored in class as attribute and then can be used in any \n",
    "method"
   ]
  },
  {
   "cell_type": "code",
   "execution_count": 18,
   "id": "bb622762",
   "metadata": {},
   "outputs": [],
   "source": [
    "\n",
    "\n",
    "class pwskills1:\n",
    " def __init__(self,phone_number,email_id,student_id): \n",
    "     self.phone_number=phone_number #Here LHS is our attribute class tries to understand the LHS side\n",
    "     self.email_id=email_id\n",
    "     self.student_id=student_id\n",
    "        \n",
    " def return_student_details(self):\n",
    "     return (self.phone_number,self.phone_number,self.student_id)\n"
   ]
  },
  {
   "cell_type": "markdown",
   "id": "fbc31033",
   "metadata": {},
   "source": [
    "### 4)Why self is used in OOPs?"
   ]
  },
  {
   "cell_type": "raw",
   "id": "141a17ce",
   "metadata": {},
   "source": [
    "It is used to assign values to object in class\n",
    "It is also used to represent instance of the class which is used in oops.It works as a instance to the \n",
    "object"
   ]
  },
  {
   "cell_type": "markdown",
   "id": "d22a8d94",
   "metadata": {},
   "source": [
    "### 5) What is inheritance? Give an example for each type of inheritance."
   ]
  },
  {
   "cell_type": "raw",
   "id": "eb30159c",
   "metadata": {},
   "source": [
    " Inheritance is a process of obtaining properties and characteristics(variables and \n",
    "methods) of another class. In this hierarchical order, the class which inherits another class is \n",
    "called subclass or child class, and the other class is the parent class"
   ]
  },
  {
   "cell_type": "code",
   "execution_count": null,
   "id": "5d5d6afc",
   "metadata": {},
   "outputs": [],
   "source": []
  },
  {
   "cell_type": "code",
   "execution_count": null,
   "id": "314b3099",
   "metadata": {},
   "outputs": [],
   "source": []
  },
  {
   "cell_type": "code",
   "execution_count": null,
   "id": "39146e64",
   "metadata": {},
   "outputs": [],
   "source": []
  },
  {
   "cell_type": "code",
   "execution_count": null,
   "id": "9388b65a",
   "metadata": {},
   "outputs": [],
   "source": []
  },
  {
   "cell_type": "code",
   "execution_count": null,
   "id": "d22020b8",
   "metadata": {},
   "outputs": [],
   "source": []
  },
  {
   "cell_type": "code",
   "execution_count": null,
   "id": "888adb36",
   "metadata": {},
   "outputs": [],
   "source": []
  },
  {
   "cell_type": "code",
   "execution_count": null,
   "id": "fd866a6b",
   "metadata": {},
   "outputs": [],
   "source": []
  },
  {
   "cell_type": "code",
   "execution_count": null,
   "id": "98e3cbdd",
   "metadata": {},
   "outputs": [],
   "source": []
  },
  {
   "cell_type": "code",
   "execution_count": null,
   "id": "7a566431",
   "metadata": {},
   "outputs": [],
   "source": []
  }
 ],
 "metadata": {
  "kernelspec": {
   "display_name": "Python 3 (ipykernel)",
   "language": "python",
   "name": "python3"
  },
  "language_info": {
   "codemirror_mode": {
    "name": "ipython",
    "version": 3
   },
   "file_extension": ".py",
   "mimetype": "text/x-python",
   "name": "python",
   "nbconvert_exporter": "python",
   "pygments_lexer": "ipython3",
   "version": "3.9.18"
  }
 },
 "nbformat": 4,
 "nbformat_minor": 5
}
