{
 "cells": [
  {
   "cell_type": "markdown",
   "id": "0da1d2cf",
   "metadata": {},
   "source": [
    "### Q1: What is the difference between a t-test and a z-test? Provide an example scenario where you would use each type of test."
   ]
  },
  {
   "cell_type": "raw",
   "id": "e9bb4f2d",
   "metadata": {},
   "source": [
    "-Ztest and Ttest are both method of Hypothesis Testing\n",
    "-Where we perform experiment ot seee whether derivie valuye of parametr of sample data lies in given confidence interval of population data"
   ]
  },
  {
   "cell_type": "markdown",
   "id": "8747fc3c",
   "metadata": {},
   "source": [
    "### Q2: Differentiate between one-tailed and two-tailed tests"
   ]
  },
  {
   "cell_type": "raw",
   "id": "952d6f42",
   "metadata": {},
   "source": [
    "-One tailed test is where we see only for less or more condition or one of both condition and consider confidence interval simultaneoulsy\n",
    "-Where as in two tailed test we see both possiblities\n",
    "-One-tailed tests allow for the possibility of an effect in one direction. \n",
    "-Two-tailed tests test for the possibility of an effect in two directions—positive and negative."
   ]
  },
  {
   "cell_type": "markdown",
   "id": "0e359225",
   "metadata": {},
   "source": [
    "### Q3: Explain the concept of Type 1 and Type 2 errors in hypothesis testing. Provide an example scenario for each type of error."
   ]
  },
  {
   "cell_type": "raw",
   "id": "c7ffdfb5",
   "metadata": {},
   "source": [
    "-A type I error (false-positive) occurs if an investigator rejects a null hypothesis that is actually true in the population; \n",
    "-a type II error (false-negative) occurs if the investigator fails to reject a null hypothesis that is actually false in the population\n"
   ]
  },
  {
   "cell_type": "markdown",
   "id": "b1340d30",
   "metadata": {},
   "source": [
    "### Q4: Explain Bayes's theorem with an example."
   ]
  },
  {
   "cell_type": "raw",
   "id": "d70b6f1b",
   "metadata": {},
   "source": [
    "-Bayes theorem is also known as the formula for the probability of “causes”. \n",
    "-For example: if we have to calculate the probability of taking a blue ball from the second bag out of three different bags of balls, \n",
    "-where each bag contains three different colour balls viz. red, blue, black."
   ]
  },
  {
   "cell_type": "markdown",
   "id": "1331be8c",
   "metadata": {},
   "source": [
    "### Q5: What is a confidence interval? How to calculate the confidence interval, explain with an example."
   ]
  },
  {
   "cell_type": "raw",
   "id": "4736455c",
   "metadata": {},
   "source": [
    "-A confidence interval is the mean of your estimate plus and minus the variation in that estimate. \n",
    "-This is the range of values you expect your estimate to fall between if you redo your test, within a certain level of confidence. \n",
    "-Confidence, in statistics, is another way to describe probability."
   ]
  },
  {
   "cell_type": "markdown",
   "id": "4c14ee3f",
   "metadata": {},
   "source": [
    "### Q6. Use Bayes' Theorem to calculate the probability of an event occurring given prior knowledge of the event's probability and new evidence. Provide a sample problem and solution."
   ]
  },
  {
   "cell_type": "raw",
   "id": "db1d8ff8",
   "metadata": {},
   "source": [
    "-It deals with Independent and Dependent Event in probablity\n",
    "-Like taking out balls from bag each time probablity goes on changing"
   ]
  },
  {
   "cell_type": "markdown",
   "id": "048b0455",
   "metadata": {},
   "source": [
    "### Q7. Calculate the 95% confidence interval for a sample of data with a mean of 50 and a standard deviation of 5. Interpret the results."
   ]
  },
  {
   "cell_type": "raw",
   "id": "8d7d95f7",
   "metadata": {},
   "source": [
    "MEAN=(UPPER BOUND,LOWER BOUND)\n",
    "UPPER BOUND=(MEAN+STD/ROOT(N))\n",
    "LOWER BOUND=(MEAN-STD/ROOT(N))\n",
    "UPPER BOUND = (50+1.96) = 51.96\n",
    "LOWER BOUND = (50-1.96) = 48.04"
   ]
  },
  {
   "cell_type": "markdown",
   "id": "81b5de0a",
   "metadata": {},
   "source": [
    "### Q8. What is the margin of error in a confidence interval? How does sample size affect the margin of error? Provide an example of a scenario where a larger sample size would result in a smaller margin of error."
   ]
  },
  {
   "cell_type": "raw",
   "id": "ae697e7f",
   "metadata": {},
   "source": [
    "MEAN=(UPPER BOUND,LOWER BOUND)\n",
    "UPPER BOUND=(MEAN+STD/ROOT(N))\n",
    "LOWER BOUND=(MEAN-STD/ROOT(N))\n",
    "UPPER BOUND = (50+1.96) = 51.96\n",
    "LOWER BOUND = (50-1.96) = 48.04\n",
    "If sample size = 100\n",
    "UPPER BOUND = (50+0.98) = 50.98\n",
    "LOWER BOUND = (50-0.98) = 49.02"
   ]
  },
  {
   "cell_type": "markdown",
   "id": "5df29797",
   "metadata": {},
   "source": [
    "### Q9. Calculate the z-score for a data point with a value of 75, a population mean of 70, and a population standard deviation of 5. Interpret the results."
   ]
  },
  {
   "cell_type": "raw",
   "id": "c0260d16",
   "metadata": {},
   "source": [
    "Zscore=75-70/5=1"
   ]
  },
  {
   "cell_type": "markdown",
   "id": "44168777",
   "metadata": {},
   "source": [
    "### Q10. In a study of the effectiveness of a new weight loss drug, a sample of 50 participants lost an average of 6 pounds with a standard deviation of 2.5 pounds. Conduct a hypothesis test to determine if the drug is significantly effective at a 95% confidence level using a t-test."
   ]
  },
  {
   "cell_type": "raw",
   "id": "76838abe",
   "metadata": {},
   "source": [
    "LOWER BOUND=(MEAN-STD/ROOT(N))\n",
    "UPPER BOUND = (50+1.96) = 51.96\n",
    "LOWER BOUND = (50-1.96) = 48.04\n",
    "If sample size = 100\n",
    "UPPER BOUND = (50+0.98) = 50.98\n",
    "LOWER BOUND = (50-0.98) = 49.02"
   ]
  },
  {
   "cell_type": "code",
   "execution_count": null,
   "id": "0dc2a9c3",
   "metadata": {},
   "outputs": [],
   "source": []
  }
 ],
 "metadata": {
  "kernelspec": {
   "display_name": "Python 3 (ipykernel)",
   "language": "python",
   "name": "python3"
  },
  "language_info": {
   "codemirror_mode": {
    "name": "ipython",
    "version": 3
   },
   "file_extension": ".py",
   "mimetype": "text/x-python",
   "name": "python",
   "nbconvert_exporter": "python",
   "pygments_lexer": "ipython3",
   "version": "3.9.18"
  }
 },
 "nbformat": 4,
 "nbformat_minor": 5
}
