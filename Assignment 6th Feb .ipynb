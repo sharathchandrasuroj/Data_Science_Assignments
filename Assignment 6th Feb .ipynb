{
 "cells": [
  {
   "cell_type": "markdown",
   "id": "7b9ba516",
   "metadata": {},
   "source": [
    "### Q1. Create a function which will take a list as an argument and return the product of all the numbers after creating a flat list.Use the below-given list as an argument for your function.\n",
    "\n",
    "\n",
    "list1 = [1,2,3,4, [44,55,66, True], False, (34,56,78,89,34), {1,2,3,3,2,1}, {1:34, \"key2\": [55, 67, 78, 89], 4: (45,22, 61, 34)}, [56, 'data science'], 'Machine Learning']"
   ]
  },
  {
   "cell_type": "code",
   "execution_count": 1,
   "id": "e4b64d0f",
   "metadata": {},
   "outputs": [
    {
     "data": {
      "text/plain": [
       "4134711838987085478833841242112000"
      ]
     },
     "execution_count": 1,
     "metadata": {},
     "output_type": "execute_result"
    }
   ],
   "source": [
    "def func(l):\n",
    "    lst=[]\n",
    "    for i in l:\n",
    "        if(type(i)==int):\n",
    "            lst.append(i)\n",
    "        elif(type(i)==list):\n",
    "            for j in i:\n",
    "                if(type(j)==int):\n",
    "                    lst.append(j)\n",
    "        elif(type(i)==tuple):\n",
    "            for j in i:\n",
    "                if(type(j)==int):\n",
    "                    lst.append(j)\n",
    "        elif(type(i)==set):\n",
    "            for j in i:\n",
    "                if(type(j)==int):\n",
    "                    lst.append(j)\n",
    "        elif(type(i)==dict):\n",
    "            a=i.keys()\n",
    "            for j in a:\n",
    "                if(type(j)==int):\n",
    "                    lst.append(j)\n",
    "            b=i.values()\n",
    "            for j in b:\n",
    "                if(type(j)==int):\n",
    "                    lst.append(j) \n",
    "                elif(type(j)==list):\n",
    "                    for k in j:\n",
    "                        if(type(k)==int):\n",
    "                            lst.append(k)\n",
    "                elif(type(j)==tuple):\n",
    "                    for k in j:\n",
    "                        if(type(k)==int):\n",
    "                            lst.append(k)\n",
    "        product=1\n",
    "        for i in lst:\n",
    "            product=i*product\n",
    "    return product\n",
    "\n",
    "list1 = [1,2,3,4, [44,55,66, True], False, (34,56,78,89,34), {1,2,3,3,2,1}, {1:34, \"key2\": [55, 67, 78, 89], 4: (45,22, 61, 34)},\n",
    "         [56, 'data science'], 'Machine Learning']\n",
    "\n",
    "func(list1)"
   ]
  },
  {
   "cell_type": "markdown",
   "id": "b89e93ee",
   "metadata": {},
   "source": [
    "### Q2. Write a python program for encrypting a message sent to you by your friend. The logic of encryptionshould be such that, for a the output should be z. For b, the output should be y. For c, the output shouldbe x respectively. Also, the whitespace should be replaced with a dollar sign. Keep the punctuation marks unchanged.\n",
    "\n",
    "Input Sentence: I want to become a Data Scientist.\n",
    "\n",
    "Encrypt the above input sentence using the program you just created."
   ]
  },
  {
   "cell_type": "code",
   "execution_count": 2,
   "id": "0b7017a7",
   "metadata": {},
   "outputs": [
    {
     "data": {
      "text/plain": [
       "'i want to become a data scientist.'"
      ]
     },
     "execution_count": 2,
     "metadata": {},
     "output_type": "execute_result"
    }
   ],
   "source": [
    "msg = \"I want to become a Data Scientist.\"\n",
    "msg.lower()"
   ]
  },
  {
   "cell_type": "code",
   "execution_count": 3,
   "id": "be4e4a19",
   "metadata": {},
   "outputs": [
    {
     "data": {
      "text/plain": [
       "'r$dzmg$gl$yvxlnv$z$wzgz$hxrvmgrhg.'"
      ]
     },
     "execution_count": 3,
     "metadata": {},
     "output_type": "execute_result"
    }
   ],
   "source": [
    "def encryption(msg1):\n",
    "    msg1=msg1.lower()\n",
    "    msg2=\"\"\n",
    "    for i in msg1:\n",
    "        if(ord(i)<=122 and ord(i)>=97):\n",
    "            msg2=msg2 + chr(122-(ord(i))+97).lower()\n",
    "        elif(ord(i)==32):\n",
    "            msg2=msg2 + \"$\"\n",
    "        else:\n",
    "            msg2=msg2 + i\n",
    "    \n",
    "    return msg2\n",
    "\n",
    "msg = \"I want to become a Data Scientist.\"\n",
    "encryption(msg)"
   ]
  },
  {
   "cell_type": "code",
   "execution_count": null,
   "id": "54051df9",
   "metadata": {},
   "outputs": [],
   "source": []
  },
  {
   "cell_type": "code",
   "execution_count": null,
   "id": "8b216c9b",
   "metadata": {},
   "outputs": [],
   "source": []
  },
  {
   "cell_type": "code",
   "execution_count": null,
   "id": "e517aa00",
   "metadata": {},
   "outputs": [],
   "source": []
  },
  {
   "cell_type": "code",
   "execution_count": null,
   "id": "96abda74",
   "metadata": {},
   "outputs": [],
   "source": []
  },
  {
   "cell_type": "code",
   "execution_count": null,
   "id": "9dffcb37",
   "metadata": {},
   "outputs": [],
   "source": []
  },
  {
   "cell_type": "code",
   "execution_count": null,
   "id": "855c396d",
   "metadata": {},
   "outputs": [],
   "source": []
  },
  {
   "cell_type": "code",
   "execution_count": null,
   "id": "67cd5a36",
   "metadata": {},
   "outputs": [],
   "source": []
  }
 ],
 "metadata": {
  "kernelspec": {
   "display_name": "Python 3 (ipykernel)",
   "language": "python",
   "name": "python3"
  },
  "language_info": {
   "codemirror_mode": {
    "name": "ipython",
    "version": 3
   },
   "file_extension": ".py",
   "mimetype": "text/x-python",
   "name": "python",
   "nbconvert_exporter": "python",
   "pygments_lexer": "ipython3",
   "version": "3.9.18"
  }
 },
 "nbformat": 4,
 "nbformat_minor": 5
}
