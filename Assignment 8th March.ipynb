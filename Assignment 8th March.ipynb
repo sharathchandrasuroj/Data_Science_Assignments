{
 "cells": [
  {
   "cell_type": "markdown",
   "id": "67eddb0d",
   "metadata": {},
   "source": [
    "### Q1. What is the Probability density function?"
   ]
  },
  {
   "cell_type": "code",
   "execution_count": 2,
   "id": "5b0264be",
   "metadata": {},
   "outputs": [],
   "source": [
    "-It is the plot of probablity of events occuring\n",
    "-It is the continous plot which comes out of kerner density estinator after smoothning the curve"
   ]
  },
  {
   "cell_type": "markdown",
   "id": "a3464c2d",
   "metadata": {},
   "source": [
    "### Q2. What are the types of Probability distribution?"
   ]
  },
  {
   "cell_type": "code",
   "execution_count": 3,
   "id": "0d5407c9",
   "metadata": {},
   "outputs": [],
   "source": [
    "Thier three types\n",
    "i)Probablity density function\n",
    "ii)Probablity mass Function\n",
    "iii)Cumulative Distribution function"
   ]
  },
  {
   "cell_type": "markdown",
   "id": "bfaf127e",
   "metadata": {},
   "source": [
    "### Q3. Write a Python function to calculate the probability density function of a normal distribution with given mean and standard deviation at a given point."
   ]
  },
  {
   "cell_type": "code",
   "execution_count": 4,
   "id": "10a0f5c3",
   "metadata": {},
   "outputs": [],
   "source": [
    "from scipy.stats import norm"
   ]
  },
  {
   "cell_type": "code",
   "execution_count": 5,
   "id": "2898951c",
   "metadata": {},
   "outputs": [],
   "source": [
    "mean=90.3\n",
    "std=3.1\n",
    "probability_pdf = norm.pdf(3, loc=mean, scale=std)\n",
    "print(probability_pdf)"
   ]
  },
  {
   "cell_type": "markdown",
   "id": "8e1f8f14",
   "metadata": {},
   "source": [
    "### Q4. What are the properties of Binomial distribution? Give two examples of events where binomial distribution can be applied"
   ]
  },
  {
   "cell_type": "code",
   "execution_count": 7,
   "id": "d9ab3083",
   "metadata": {},
   "outputs": [],
   "source": [
    "Binomial distribution is descrete plot with probablity mass function\n",
    "It has two binary outcome plot yes/no true/false success /failure\n",
    "\n",
    "Eg Tossing of coin #Pass fail in exam"
   ]
  },
  {
   "cell_type": "markdown",
   "id": "1a62d0c9",
   "metadata": {},
   "source": [
    "### Q5. Generate a random sample of size 1000 from a binomial distribution with probability of success 0.4 and plot a histogram of the results using matplotlib."
   ]
  },
  {
   "cell_type": "code",
   "execution_count": 8,
   "id": "f7a56867",
   "metadata": {},
   "outputs": [],
   "source": [
    "from scipy.stats import binom\n",
    "import matplotlib.pyplot as plt\n",
    "n = 1000\n",
    "p = 0.4\n",
    "r_values = list(range(n + 1))\n",
    "dist = [binom.pmf(r, n, p) for r in r_values ]\n",
    "plt.bar(r_values, dist)\n",
    "plt.show()"
   ]
  },
  {
   "cell_type": "markdown",
   "id": "a92414f7",
   "metadata": {},
   "source": [
    "### Q6. Write a Python function to calculate the cumulative distribution function of a Poisson distribution with given mean at a given point."
   ]
  },
  {
   "cell_type": "code",
   "execution_count": 9,
   "id": "9e2aa055",
   "metadata": {},
   "outputs": [],
   "source": [
    "from scipy.stats import poisson\n",
    "import matplotlib.pyplot as plt\n",
    "\n",
    "x = poisson.rvs(mu=3, size=1000)\n",
    "\n",
    "plt.hist(x, density=True, edgecolor='black')"
   ]
  },
  {
   "cell_type": "markdown",
   "id": "65013969",
   "metadata": {},
   "source": [
    "### Q7. How Binomial distribution different from Poisson distribution?"
   ]
  },
  {
   "cell_type": "code",
   "execution_count": 10,
   "id": "42e203d1",
   "metadata": {},
   "outputs": [],
   "source": [
    "Binomial distribution is binary outcome\n",
    "While poisson distribution is describes event occuring in fixed time interval"
   ]
  },
  {
   "cell_type": "markdown",
   "id": "26a335b6",
   "metadata": {},
   "source": [
    "### Q8. Generate a random sample of size 1000 from a Poisson distribution with mean 5 and calculate the sample mean and variance."
   ]
  },
  {
   "cell_type": "code",
   "execution_count": 11,
   "id": "54198488",
   "metadata": {},
   "outputs": [],
   "source": [
    "import numpy as np\n",
    "s = np.random.poisson(5, 10000)\n",
    "s"
   ]
  },
  {
   "cell_type": "markdown",
   "id": "60d9aa06",
   "metadata": {},
   "source": [
    "### Q9. How mean and variance are related in Binomial distribution and Poisson distribution?"
   ]
  },
  {
   "cell_type": "code",
   "execution_count": 12,
   "id": "e4d9f53d",
   "metadata": {},
   "outputs": [],
   "source": [
    "In binomial distribution Mean=np and Varaince=npq\n",
    "In poisson distribution Mean=lambda * timeinterval and Varaince=lambda * timeinterval both are same here"
   ]
  },
  {
   "cell_type": "markdown",
   "id": "cf02d1e8",
   "metadata": {},
   "source": [
    "### Q10. In normal distribution with respect to mean position, where does the least frequent data appear?"
   ]
  },
  {
   "cell_type": "code",
   "execution_count": 13,
   "id": "15d9e42a",
   "metadata": {},
   "outputs": [],
   "source": [
    "At end of curve that is left and right extereme we find least frequency of data"
   ]
  },
  {
   "cell_type": "code",
   "execution_count": null,
   "id": "62888137",
   "metadata": {},
   "outputs": [],
   "source": []
  }
 ],
 "metadata": {
  "kernelspec": {
   "display_name": "Python 3 (ipykernel)",
   "language": "python",
   "name": "python3"
  },
  "language_info": {
   "codemirror_mode": {
    "name": "ipython",
    "version": 3
   },
   "file_extension": ".py",
   "mimetype": "text/x-python",
   "name": "python",
   "nbconvert_exporter": "python",
   "pygments_lexer": "ipython3",
   "version": "3.9.18"
  }
 },
 "nbformat": 4,
 "nbformat_minor": 5
}
