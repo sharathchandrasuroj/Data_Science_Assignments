{
 "cells": [
  {
   "cell_type": "markdown",
   "id": "63d06400",
   "metadata": {},
   "source": [
    "#### Q1. What is Statistics?"
   ]
  },
  {
   "cell_type": "code",
   "execution_count": 5,
   "id": "139727c7",
   "metadata": {},
   "outputs": [],
   "source": [
    "Statistics is a branch of mathematics that involves collecting, analyzing, and interpreting data. It employs descriptive methods to summarize information and inferential techniques for making predictions or decisions based on sample data in various fields like science, business, and social sciences."
   ]
  },
  {
   "cell_type": "markdown",
   "id": "41f8ae98",
   "metadata": {},
   "source": [
    "### Q2. Define the different types of statistics and give an example of when each type might be used."
   ]
  },
  {
   "cell_type": "code",
   "execution_count": 6,
   "id": "ca304c90",
   "metadata": {},
   "outputs": [],
   "source": [
    "Descriptive Statistics: Summarizes and describes main features of a dataset. Example: Calculating the average income of a population to understand the central tendency.\n",
    "\n",
    "Inferential Statistics: Makes predictions or inferences about a population based on a sample. Example: Conducting a hypothesis test to assess the effectiveness of a new drug using a sample of patients."
   ]
  },
  {
   "cell_type": "markdown",
   "id": "5c5df9a7",
   "metadata": {},
   "source": [
    "### Q3. What are the different types of data and how do they differ from each other? Provide an example of each type of data. "
   ]
  },
  {
   "cell_type": "code",
   "execution_count": 12,
   "id": "a8be396f",
   "metadata": {},
   "outputs": [],
   "source": [
    "There are mainly two types of data like\n",
    "\n",
    "Numerical (Quantatative Data) Data\n",
    "i)Discrete Data(Number of children in family)\n",
    "ii)Continuos data(Height of people)\n",
    "\n",
    "Categorical (Qualitative Data) Data\n",
    "i)Nominal Data(Rank does not matter) (Gender category , blood groups)\n",
    "ii)Ordinal Data(Rank can be determined or order exixt)(Upper class, middle class, lower class,university ranking)"
   ]
  },
  {
   "cell_type": "markdown",
   "id": "1bd9d71c",
   "metadata": {},
   "source": [
    "### Q4. Categorise the following datasets with respect to quantitative and qualitative data types:\n",
    "\n",
    "(i) Grading in exam: A+, A, B+, B, C+, C, D, E\n",
    "\n",
    "(ii) Colour of mangoes: yellow, green, orange, red\n",
    "\n",
    "(iii) Height data of a class: [178.9, 179, 179.5, 176, 177.2, 178.3, 175.8,...]\n",
    "\n",
    "(iv) Number of mangoes exported by a farm: [500, 600, 478, 672, ...]"
   ]
  },
  {
   "cell_type": "code",
   "execution_count": 13,
   "id": "7dd44183",
   "metadata": {},
   "outputs": [],
   "source": [
    "i)Ordinal Qualitative Data\n",
    "ii)Nominal Qualitative Data\n",
    "iii)Continuous Quantitative Data\n",
    "iv)Discrete Quantitative Data"
   ]
  },
  {
   "cell_type": "markdown",
   "id": "0485cc8d",
   "metadata": {},
   "source": [
    "### Q5. Explain the concept of levels of measurement and give an example of a variable for each level."
   ]
  },
  {
   "cell_type": "code",
   "execution_count": 14,
   "id": "bfdab538",
   "metadata": {},
   "outputs": [],
   "source": [
    "There four levels of measurement of Data\n",
    "i)Nominal Data(Rank does not matter) (Gender category , blood groups)\n",
    "ii)Ordinal Data(Rank can be determined or order exixt)(Upper class, middle class, lower class,university ranking)\n",
    "iii)Interval Data(Here it is not necessary measurement will start from zero)(Temperature measurement)\n",
    "iv)Ratio Data(Here measurement starts from zero )(BMI ratio)"
   ]
  },
  {
   "cell_type": "markdown",
   "id": "ccbb8983",
   "metadata": {},
   "source": [
    "### Q6. Why is it important to understand the level of measurement when analyzing data? Provide an example to illustrate your answer."
   ]
  },
  {
   "cell_type": "code",
   "execution_count": 15,
   "id": "bfdabdbf",
   "metadata": {},
   "outputs": [],
   "source": [
    "-By understanding level of measurement only we will get to know how data is distributed \n",
    "-We will get to know all datatypes involved in Data so we can analyse easily\n",
    "-Example sales order data of Ecommerce store eg:Amazon there we have all types of data\n",
    "-Example gender og customer(Qualitative/Catgorical), Price of product purchase(Quantitative),Address,Data,etc\n",
    "-So we need to understand the level of measurement while analyzing data"
   ]
  },
  {
   "cell_type": "markdown",
   "id": "ec4957f7",
   "metadata": {},
   "source": [
    "### Q7. How nominal data type is different from ordinal data type. "
   ]
  },
  {
   "cell_type": "code",
   "execution_count": 16,
   "id": "8b4c28b4",
   "metadata": {},
   "outputs": [],
   "source": [
    "Nominal and Ordinal both lie under categorical or qualitative data \n",
    "In Nominal data we cannot rank categories like genders types or blood groups types there are no specific values of catesgories\n",
    "In ordinal we can actually rank like Economic classes in society or Ratings of products."
   ]
  },
  {
   "cell_type": "markdown",
   "id": "200bf579",
   "metadata": {},
   "source": [
    "### Q8. Which type of plot can be used to display data in terms of range? "
   ]
  },
  {
   "cell_type": "code",
   "execution_count": 17,
   "id": "3015b216",
   "metadata": {},
   "outputs": [],
   "source": [
    "-We have interval as well as ratio data here to disolay in terms of range\n",
    "-Depending zero value we can use thses categories under categorical or qualitative data"
   ]
  },
  {
   "cell_type": "markdown",
   "id": "66c146be",
   "metadata": {},
   "source": [
    "### Q9. Describe the difference between descriptive and inferential statistics. Give an example of each type of statistics and explain how they are used. "
   ]
  },
  {
   "cell_type": "code",
   "execution_count": 18,
   "id": "ccfb54e7",
   "metadata": {},
   "outputs": [],
   "source": [
    "There are mainly two types of statistics \n",
    "i) Descrptive Statistics \n",
    "Here we deal with mean,mode,median,central tendancy,variance,standard deviation,etc.\n",
    "\n",
    "ii) Inferential Statistics\n",
    "Here we get answers of our questions like is India rich country based of data given\n",
    "We use here various tests hypothesis testings analyzing and various things"
   ]
  },
  {
   "cell_type": "markdown",
   "id": "da9a6ed8",
   "metadata": {},
   "source": [
    "### Q10. What are some common measures of central tendency and variability used in statistics? Explain how each measure can be used to describe a dataset. "
   ]
  },
  {
   "cell_type": "code",
   "execution_count": 19,
   "id": "ad622c65",
   "metadata": {},
   "outputs": [],
   "source": [
    "These measure of tendancies and variablity lie under Descriptive Statistics\n",
    "i)In central tendancy we get to know how our data is spread around mean or how well it is centered like standard deviation variance\n",
    "ii)In variabliy we get to know structure of data like mean average max mean min mode median"
   ]
  },
  {
   "cell_type": "code",
   "execution_count": null,
   "id": "e0c09ad7",
   "metadata": {},
   "outputs": [],
   "source": []
  },
  {
   "cell_type": "code",
   "execution_count": null,
   "id": "8731dd7e",
   "metadata": {},
   "outputs": [],
   "source": []
  },
  {
   "cell_type": "code",
   "execution_count": null,
   "id": "23b72d74",
   "metadata": {},
   "outputs": [],
   "source": []
  },
  {
   "cell_type": "code",
   "execution_count": null,
   "id": "77bbba9e",
   "metadata": {},
   "outputs": [],
   "source": []
  }
 ],
 "metadata": {
  "kernelspec": {
   "display_name": "Python 3 (ipykernel)",
   "language": "python",
   "name": "python3"
  },
  "language_info": {
   "codemirror_mode": {
    "name": "ipython",
    "version": 3
   },
   "file_extension": ".py",
   "mimetype": "text/x-python",
   "name": "python",
   "nbconvert_exporter": "python",
   "pygments_lexer": "ipython3",
   "version": "3.9.18"
  }
 },
 "nbformat": 4,
 "nbformat_minor": 5
}
