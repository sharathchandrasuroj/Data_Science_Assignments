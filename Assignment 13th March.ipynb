{
 "cells": [
  {
   "cell_type": "markdown",
   "id": "c0344b1d",
   "metadata": {},
   "source": [
    "### Q1: What are the Probability Mass Function (PMF) and Probability Density Function (PDF)? Explain with an example."
   ]
  },
  {
   "cell_type": "raw",
   "id": "b39d84b7",
   "metadata": {},
   "source": [
    "-Probablity mass function (PMF) is basically discrete random variable function \n",
    "-While Probablity Density function (PDF) is basically Continuous random variable function \n",
    "-Bernoulli binomial poisson distribution are few examples of PMF\n",
    "-While Normal/Gaussian Distribution are example of PDF"
   ]
  },
  {
   "cell_type": "markdown",
   "id": "404235d3",
   "metadata": {},
   "source": [
    "### Q2: What is Cumulative Density Function (CDF)? Explain with an example. Why CDF is used?"
   ]
  },
  {
   "cell_type": "raw",
   "id": "0615b441",
   "metadata": {},
   "source": [
    "-It is the summation plot where at every state we sum up the values and keep on adding\n",
    "-It is works same as cumulative frequency\n",
    "-We can use this in case of questions lke find probablity for less than or eqaul to certain value in data\n",
    "-Example what is probablity to get more than 3 in rollinhg dice"
   ]
  },
  {
   "cell_type": "markdown",
   "id": "a2877a8c",
   "metadata": {},
   "source": [
    "### Q3: What are some examples of situations where the normal distribution might be used as a model? Explain how the parameters of the normal distribution relate to the shape of the distribution."
   ]
  },
  {
   "cell_type": "raw",
   "id": "e20eb8a4",
   "metadata": {},
   "source": [
    "-We can use normal distribution in order to find number or percentage of elements or data lying greater than or less than certain value\n",
    "-Parameters of normal distribution are like mean and standard deviation we can see through scintific experiments that 68% of data lye \n",
    "-between mean-standard deviation to mean+standard deviation\n",
    "-While 95% lie between mean-2standard deviation to mean+2standard deviation\n",
    "-And  98% lie between mean-3standard deviation to mean+3standard deviation"
   ]
  },
  {
   "cell_type": "markdown",
   "id": "97d7bd6b",
   "metadata": {},
   "source": [
    "### Q4: Explain the importance of Normal Distribution. Give a few real-life examples of Normal Distribution."
   ]
  },
  {
   "cell_type": "raw",
   "id": "3e7481ac",
   "metadata": {},
   "source": [
    "-Normal distribution veru much imporatant when comes to zscore where we can use it to find find probablity for less than or eqaul to certain value in data\n",
    "-Example what is probablity to get more than 3 in rollinhg dice"
   ]
  },
  {
   "cell_type": "markdown",
   "id": "be5a97ad",
   "metadata": {},
   "source": [
    "### Q5: What is Bernaulli Distribution? Give an Example. What is the difference between Bernoulli Distribution and Binomial Distribution?"
   ]
  },
  {
   "cell_type": "raw",
   "id": "3af75b43",
   "metadata": {},
   "source": [
    "-Bernoulli is plot of binomial outcome distribution which depends on 1/0 yes/no success/failure \n",
    "-When we do n number or certain number of trials then we say it as binomial distribution like out of \n",
    "-Certain trials what is probablity to get success"
   ]
  },
  {
   "cell_type": "markdown",
   "id": "50d6cae3",
   "metadata": {},
   "source": [
    "### Q6. Consider a dataset with a mean of 50 and a standard deviation of 10. If we assume that the dataset is normally distributed, what is the probability that a randomly selected observation will be greater than 60? Use the appropriate formula and show your calculations."
   ]
  },
  {
   "cell_type": "raw",
   "id": "05cb2430",
   "metadata": {},
   "source": [
    "-Find zsocre for 60\n",
    "-Zscore=60-50/10=1\n",
    "-From ztable of right as it is postive z(1)=0.84132 this is for less than 60\n",
    "-For more than 60 we have 1-0.84132=0.15948 \n",
    "-0.159 is the probablity that randomly selected observation will be greater than 60"
   ]
  },
  {
   "cell_type": "markdown",
   "id": "0a5b16a4",
   "metadata": {},
   "source": [
    "### Q7: Explain uniform Distribution with an example."
   ]
  },
  {
   "cell_type": "raw",
   "id": "c62fa4d4",
   "metadata": {},
   "source": [
    "-Uniform distribution is where each outcome of even has same prbablity like tossing of coin we have same probablity for head and tail\n",
    "-Also for outcome on dice each number has same probablity\n",
    "\n",
    "In uniform distribution it has two types\n",
    "i)Discrete uniform distribution like outcome on dice\n",
    "ii)Continuous uniform distribution like chances of event hapening in given range"
   ]
  },
  {
   "cell_type": "markdown",
   "id": "9ae371a3",
   "metadata": {},
   "source": [
    "### Q8: What is the z score? State the importance of the z score."
   ]
  },
  {
   "cell_type": "raw",
   "id": "bdc72444",
   "metadata": {},
   "source": [
    "-Zscore is a difference between value oand mean then divided by standard deviation of population \n",
    "-We can get how deviated is value from mean\n",
    "-Also with the help of z score we can get standarized normal distribution\n",
    "-Zscore then z table help us to find percentage of population lying above and below certain value"
   ]
  },
  {
   "cell_type": "markdown",
   "id": "431a5314",
   "metadata": {},
   "source": [
    "### Q9: What is Central Limit Theorem? State the significance of the Central Limit Theorem."
   ]
  },
  {
   "cell_type": "raw",
   "id": "667c1db0",
   "metadata": {},
   "source": [
    "-Central limit theorem states about sampling distribution \n",
    "-Does not matter whether out population data follows normal r gaussian or possion or bernoulli or binomial distribution or log normal\n",
    "-But of sampling distribution will always follow normal or gaussin distribution\n",
    "-Also mean of sample distribution will be approximately equal to population mean and standard deviation of sample\n",
    "-will be standard dviation of population divided by square root of samplem size"
   ]
  },
  {
   "cell_type": "markdown",
   "id": "c1739fb3",
   "metadata": {},
   "source": [
    "### Q10: State the assumptions of the Central Limit Theorem."
   ]
  },
  {
   "cell_type": "raw",
   "id": "3cf8d90a",
   "metadata": {},
   "source": [
    "-Does not matter whether out population data follows normal r gaussian or possion or bernoulli or binomial distribution or log normal\n",
    "-But of sampling distribution will always follow normal or gaussin distribution\n",
    "-Also mean of sample distribution will be approximately equal to population mean and standard deviation of sample\n",
    "-will be standard dviation of population divided by square root of samplem size"
   ]
  },
  {
   "cell_type": "code",
   "execution_count": null,
   "id": "940b4349",
   "metadata": {},
   "outputs": [],
   "source": []
  },
  {
   "cell_type": "code",
   "execution_count": null,
   "id": "63723089",
   "metadata": {},
   "outputs": [],
   "source": []
  },
  {
   "cell_type": "code",
   "execution_count": null,
   "id": "fa23b0b2",
   "metadata": {},
   "outputs": [],
   "source": []
  },
  {
   "cell_type": "code",
   "execution_count": null,
   "id": "27582a97",
   "metadata": {},
   "outputs": [],
   "source": []
  },
  {
   "cell_type": "code",
   "execution_count": null,
   "id": "5542fafb",
   "metadata": {},
   "outputs": [],
   "source": []
  },
  {
   "cell_type": "code",
   "execution_count": null,
   "id": "d665515a",
   "metadata": {},
   "outputs": [],
   "source": []
  },
  {
   "cell_type": "code",
   "execution_count": null,
   "id": "4a80d169",
   "metadata": {},
   "outputs": [],
   "source": []
  }
 ],
 "metadata": {
  "kernelspec": {
   "display_name": "Python 3 (ipykernel)",
   "language": "python",
   "name": "python3"
  },
  "language_info": {
   "codemirror_mode": {
    "name": "ipython",
    "version": 3
   },
   "file_extension": ".py",
   "mimetype": "text/x-python",
   "name": "python",
   "nbconvert_exporter": "python",
   "pygments_lexer": "ipython3",
   "version": "3.9.18"
  }
 },
 "nbformat": 4,
 "nbformat_minor": 5
}
