{
 "cells": [
  {
   "cell_type": "markdown",
   "id": "9e6cd546",
   "metadata": {},
   "source": [
    "### 1. Which keyword is used to create a function? Create a function to return a list of odd numbers in the range of 1 to 25. "
   ]
  },
  {
   "cell_type": "raw",
   "id": "b4d326b6",
   "metadata": {},
   "source": [
    " def is the reserved keyword to create a function in python"
   ]
  },
  {
   "cell_type": "code",
   "execution_count": 1,
   "id": "cd8e2ce8",
   "metadata": {},
   "outputs": [
    {
     "data": {
      "text/plain": [
       "[1, 3, 5, 7, 9, 11, 13, 15, 17, 19, 21, 23, 25]"
      ]
     },
     "execution_count": 1,
     "metadata": {},
     "output_type": "execute_result"
    }
   ],
   "source": [
    "def list_of_odd_numbers():\n",
    " return ([i for i in range(1,26,2)])\n",
    "list_of_odd_numbers()\n"
   ]
  },
  {
   "cell_type": "markdown",
   "id": "02ea00c5",
   "metadata": {},
   "source": [
    "### 2. Why *args and **kwargs is used in some functions? Create a function each for *args and    **kwargs to demonstrate their use."
   ]
  },
  {
   "cell_type": "raw",
   "id": "f4a925f2",
   "metadata": {},
   "source": [
    "*args is used in function to pass number of arguments that are not known while **is used to \n",
    "pass dictionary key value pair"
   ]
  },
  {
   "cell_type": "code",
   "execution_count": 2,
   "id": "4c38e3ec",
   "metadata": {},
   "outputs": [
    {
     "data": {
      "text/plain": [
       "((1, 3, 5, 7, 9), {'a': 2, 'b': 4, 'c': 6, 'd': 8})"
      ]
     },
     "execution_count": 2,
     "metadata": {},
     "output_type": "execute_result"
    }
   ],
   "source": [
    "def func(*args,**kwargs):\n",
    " return (args,kwargs)\n",
    "func(1,3,5,7,9,a=2,b=4,c=6,d=8)"
   ]
  },
  {
   "cell_type": "markdown",
   "id": "780d2f0b",
   "metadata": {},
   "source": [
    "### 3. What is an iterator in python? Name the method used to initialise the iterator object and the method used for iteration. Use these methods to print the first five elements of the given list\n",
    "[2, 4, 6, 8, 10, 12, 14, 16,18, 20].\n"
   ]
  },
  {
   "cell_type": "raw",
   "id": "ca58f396",
   "metadata": {},
   "source": [
    "Iterator is an in built object in python used to iterate through data structure of python like \n",
    "list,set,tuple and dictionary.\n",
    "Iter() method is used to initialize the iterator object and next() method is used to iterate through \n",
    "data structure."
   ]
  },
  {
   "cell_type": "code",
   "execution_count": 3,
   "id": "781ee857",
   "metadata": {},
   "outputs": [
    {
     "name": "stdout",
     "output_type": "stream",
     "text": [
      "2\n",
      "4\n",
      "6\n",
      "8\n",
      "10\n"
     ]
    }
   ],
   "source": [
    "lst=[2, 4, 6, 8, 10, 12, 14, 16,18, 20]\n",
    "i=iter(lst)\n",
    "for j in range(0,5):\n",
    " print(next(i))"
   ]
  },
  {
   "cell_type": "markdown",
   "id": "14f0892d",
   "metadata": {},
   "source": [
    "### 4. What is a generator function in python? Why yield keyword is used? Give an example of a generator function."
   ]
  },
  {
   "cell_type": "raw",
   "id": "509bed12",
   "metadata": {},
   "source": [
    "Usually the function return whole set of values instead on one by one this is even worst when \n",
    "function input are in million and trillion for that we use function generator. And for this we use yield \n",
    "keyword"
   ]
  },
  {
   "cell_type": "code",
   "execution_count": 5,
   "id": "6248c13a",
   "metadata": {},
   "outputs": [
    {
     "name": "stdout",
     "output_type": "stream",
     "text": [
      "0\n",
      "1\n",
      "2\n",
      "3\n",
      "4\n",
      "5\n",
      "6\n",
      "7\n",
      "8\n",
      "9\n"
     ]
    }
   ],
   "source": [
    "def func(a):\n",
    " for i in range(a):\n",
    "     yield(i)\n",
    "i=iter(func(10))\n",
    "for j in range(10):\n",
    " print(next(i))\n"
   ]
  },
  {
   "cell_type": "markdown",
   "id": "8f4b5f5d",
   "metadata": {},
   "source": [
    "### 5. Create a generator function for prime numbers less than 1000. Use the next() method to print the first 20 prime numbers."
   ]
  },
  {
   "cell_type": "code",
   "execution_count": 8,
   "id": "021c792c",
   "metadata": {},
   "outputs": [
    {
     "name": "stdout",
     "output_type": "stream",
     "text": [
      "3\n",
      "5\n",
      "5\n",
      "5\n",
      "7\n",
      "7\n",
      "7\n",
      "7\n",
      "7\n",
      "9\n",
      "11\n",
      "11\n",
      "11\n",
      "11\n",
      "11\n",
      "11\n",
      "11\n",
      "11\n",
      "11\n",
      "13\n"
     ]
    }
   ],
   "source": [
    "def func(a):\n",
    " for i in range(1,a):\n",
    "     for j in range(2,i):\n",
    "         if(i%j==0):\n",
    "             break\n",
    "         else:\n",
    "             yield(i)\n",
    "i=iter(func(1000))\n",
    "for j in range(20):\n",
    " print(next(i))"
   ]
  },
  {
   "cell_type": "code",
   "execution_count": null,
   "id": "6a83d9bb",
   "metadata": {},
   "outputs": [],
   "source": []
  },
  {
   "cell_type": "code",
   "execution_count": null,
   "id": "94adb7c8",
   "metadata": {},
   "outputs": [],
   "source": []
  },
  {
   "cell_type": "code",
   "execution_count": null,
   "id": "b07b7257",
   "metadata": {},
   "outputs": [],
   "source": []
  },
  {
   "cell_type": "code",
   "execution_count": null,
   "id": "738b0043",
   "metadata": {},
   "outputs": [],
   "source": []
  },
  {
   "cell_type": "code",
   "execution_count": null,
   "id": "9ad28e0e",
   "metadata": {},
   "outputs": [],
   "source": []
  },
  {
   "cell_type": "code",
   "execution_count": null,
   "id": "be13bb3a",
   "metadata": {},
   "outputs": [],
   "source": []
  },
  {
   "cell_type": "code",
   "execution_count": null,
   "id": "e5ea6641",
   "metadata": {},
   "outputs": [],
   "source": []
  },
  {
   "cell_type": "code",
   "execution_count": null,
   "id": "7a40418d",
   "metadata": {},
   "outputs": [],
   "source": []
  },
  {
   "cell_type": "code",
   "execution_count": null,
   "id": "5ea406b0",
   "metadata": {},
   "outputs": [],
   "source": []
  },
  {
   "cell_type": "code",
   "execution_count": null,
   "id": "54aa0f4d",
   "metadata": {},
   "outputs": [],
   "source": []
  },
  {
   "cell_type": "code",
   "execution_count": null,
   "id": "d71e6659",
   "metadata": {},
   "outputs": [],
   "source": []
  },
  {
   "cell_type": "code",
   "execution_count": null,
   "id": "93ff7ec4",
   "metadata": {},
   "outputs": [],
   "source": []
  },
  {
   "cell_type": "code",
   "execution_count": null,
   "id": "2656f64d",
   "metadata": {},
   "outputs": [],
   "source": []
  },
  {
   "cell_type": "code",
   "execution_count": null,
   "id": "b5e4897e",
   "metadata": {},
   "outputs": [],
   "source": []
  }
 ],
 "metadata": {
  "kernelspec": {
   "display_name": "Python 3 (ipykernel)",
   "language": "python",
   "name": "python3"
  },
  "language_info": {
   "codemirror_mode": {
    "name": "ipython",
    "version": 3
   },
   "file_extension": ".py",
   "mimetype": "text/x-python",
   "name": "python",
   "nbconvert_exporter": "python",
   "pygments_lexer": "ipython3",
   "version": "3.9.18"
  }
 },
 "nbformat": 4,
 "nbformat_minor": 5
}
