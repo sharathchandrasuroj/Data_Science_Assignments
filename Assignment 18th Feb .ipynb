{
 "cells": [
  {
   "cell_type": "markdown",
   "id": "3a82ba83",
   "metadata": {},
   "source": [
    "### Q1. What is an API? Give an example, where an API is used in real life."
   ]
  },
  {
   "cell_type": "raw",
   "id": "9692c5d0",
   "metadata": {},
   "source": [
    "API's are used to connect two heterogenious or homogenious system \n",
    "It is also used in connecting frontend part with backend \n",
    "Exampe are google pay connecting with our banks\n",
    "Where both have different system still they can send and receive information"
   ]
  },
  {
   "cell_type": "markdown",
   "id": "8bd0fc6d",
   "metadata": {},
   "source": [
    "### Q2. Give advantages and disadvantages of using API."
   ]
  },
  {
   "cell_type": "markdown",
   "id": "faf059e8",
   "metadata": {},
   "source": [
    "#API allows data distribution and to publich our data on different channels simultaneously\n",
    "\n",
    "#API are  most commonly used for buissness analytics\n",
    "\n",
    "#API provides copperation between co workers and data sharing\n",
    "\n",
    "#Online payment systems how google pay or phone pay or any other money transaction app does operation from our bank account is good use of API\n",
    "\n",
    "#API can be accssed from Internet hence thier are disadvantages too"
   ]
  },
  {
   "cell_type": "markdown",
   "id": "c6f818e8",
   "metadata": {},
   "source": [
    "### Q3. What is a Web API? Differentiate between API and Web API."
   ]
  },
  {
   "cell_type": "markdown",
   "id": "d777377e",
   "metadata": {},
   "source": [
    "Web API is appication programming interface for web server and web browser\n",
    "\n",
    "Web api extends functionality of webb browser\n",
    "\n",
    "Web API have more restriction than API\n",
    "\n",
    "API exposes data to outside software but web API can't expose data to outside software\n"
   ]
  },
  {
   "cell_type": "markdown",
   "id": "41d216ac",
   "metadata": {},
   "source": [
    "### Q4. Explain REST and SOAP Architecture. Mention shortcomings of SOAP."
   ]
  },
  {
   "cell_type": "raw",
   "id": "7ccc5d04",
   "metadata": {},
   "source": [
    "REST is a set of guidelines that offers flexible implimentation \n",
    "\n",
    "While SOAP is protocol with specific requirement like XML messeaging"
   ]
  },
  {
   "cell_type": "markdown",
   "id": "2f1eda26",
   "metadata": {},
   "source": [
    "### Q5. Differentiate between REST and SOAP."
   ]
  },
  {
   "cell_type": "raw",
   "id": "048fc718",
   "metadata": {},
   "source": [
    "REST is a set of guidelines that offers flexible implimentation \n",
    "\n",
    "While SOAP is protocol with specific requirement like XML messeaging"
   ]
  },
  {
   "cell_type": "code",
   "execution_count": null,
   "id": "dc8de1e9",
   "metadata": {},
   "outputs": [],
   "source": []
  },
  {
   "cell_type": "code",
   "execution_count": null,
   "id": "ac0425a7",
   "metadata": {},
   "outputs": [],
   "source": []
  },
  {
   "cell_type": "code",
   "execution_count": null,
   "id": "7ce9cd00",
   "metadata": {},
   "outputs": [],
   "source": []
  },
  {
   "cell_type": "code",
   "execution_count": null,
   "id": "ce79d73a",
   "metadata": {},
   "outputs": [],
   "source": []
  },
  {
   "cell_type": "code",
   "execution_count": null,
   "id": "414d6aa0",
   "metadata": {},
   "outputs": [],
   "source": []
  },
  {
   "cell_type": "code",
   "execution_count": null,
   "id": "6ef08216",
   "metadata": {},
   "outputs": [],
   "source": []
  },
  {
   "cell_type": "code",
   "execution_count": null,
   "id": "36459fb1",
   "metadata": {},
   "outputs": [],
   "source": []
  },
  {
   "cell_type": "code",
   "execution_count": null,
   "id": "f485f404",
   "metadata": {},
   "outputs": [],
   "source": []
  },
  {
   "cell_type": "code",
   "execution_count": null,
   "id": "5e37f3dd",
   "metadata": {},
   "outputs": [],
   "source": []
  },
  {
   "cell_type": "code",
   "execution_count": null,
   "id": "349a7305",
   "metadata": {},
   "outputs": [],
   "source": []
  }
 ],
 "metadata": {
  "kernelspec": {
   "display_name": "Python 3 (ipykernel)",
   "language": "python",
   "name": "python3"
  },
  "language_info": {
   "codemirror_mode": {
    "name": "ipython",
    "version": 3
   },
   "file_extension": ".py",
   "mimetype": "text/x-python",
   "name": "python",
   "nbconvert_exporter": "python",
   "pygments_lexer": "ipython3",
   "version": "3.9.18"
  }
 },
 "nbformat": 4,
 "nbformat_minor": 5
}
