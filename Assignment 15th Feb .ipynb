{
 "cells": [
  {
   "cell_type": "markdown",
   "id": "d1597526",
   "metadata": {},
   "source": [
    "### Q1. What is multiprocessing in python? Why is it useful?"
   ]
  },
  {
   "cell_type": "markdown",
   "id": "c1a5be8d",
   "metadata": {},
   "source": [
    "We can't run parallel process in multithreading to overcome this we have multiprocessing\n",
    "Here we can run multiple process that is pull of processes using multiprocesing\n",
    "For this we have module name 'multiprocessing'\n",
    "This module allows to run multiple process simultaneously"
   ]
  },
  {
   "cell_type": "raw",
   "id": "e33b89b2",
   "metadata": {},
   "source": [
    "import multiprocessing\n",
    "def square(n):\n",
    "    return n**2\n",
    "if __name__ == '__main__':\n",
    "    with multiprocessing.Pool(processes=5) as pool :\n",
    "        out =pool.map(square , [1,2,3,4,5,6,7,8,9])\n",
    "        print(out)"
   ]
  },
  {
   "cell_type": "markdown",
   "id": "6f4cef95",
   "metadata": {},
   "source": [
    "### Q2. What are the differences between multiprocessing and multithreading?"
   ]
  },
  {
   "cell_type": "raw",
   "id": "3e1fdbe4",
   "metadata": {},
   "source": [
    "-In multithreading all programs are runned simultaneously but one by one it creates threads and then joins them to excute all processes\n",
    "-But in multithreading we can actually run different processes or programs parallely\n",
    "-Multithreading supports various parts of single programs simultaneouls\n",
    "-Multiprocessing supports execution of various programs simultaneously\n",
    "-Thread is smallest unit in multithreading\n",
    "-While program or process is smallest unit Multiprocessing"
   ]
  },
  {
   "cell_type": "markdown",
   "id": "5800d9b5",
   "metadata": {},
   "source": [
    "### Q3. Write a python code to create a process using the multiprocessing module."
   ]
  },
  {
   "cell_type": "raw",
   "id": "3f740f19",
   "metadata": {},
   "source": [
    "import multiprocessing\n",
    "\n",
    "def producer(q):\n",
    "    for i in [\"Mercedes\",\"Audi\",\"Jaguar\",\"Ferrari\"] : \n",
    "        q.put(i)\n",
    "    \n",
    "def consume(q) : \n",
    "    while True :\n",
    "        item = q.get()\n",
    "        if item is None :\n",
    "            break \n",
    "        print(item)\n",
    "        \n",
    "if __name__ == '__main__':\n",
    "    queue = multiprocessing.Queue()\n",
    "    m1 = multiprocessing.Process(target=producer , args= (queue,))\n",
    "    m2 = multiprocessing.Process(target=consume ,args=(queue,) )\n",
    "    m1.start()\n",
    "    m2.start()\n",
    "    queue.put(\"xyz\")\n",
    "    m1.join()\n",
    "    m2.join()"
   ]
  },
  {
   "cell_type": "markdown",
   "id": "dbb6d991",
   "metadata": {},
   "source": [
    "### Q4. What is a multiprocessing pool in python? Why is it used?"
   ]
  },
  {
   "cell_type": "raw",
   "id": "2c320c01",
   "metadata": {},
   "source": [
    "#Multiprocessing Pool can be used for parallel execution of a function across multiple input values\n",
    "#Distributing the input data across processes\n",
    "#It supports data parallelism"
   ]
  },
  {
   "cell_type": "raw",
   "id": "4d99a263",
   "metadata": {},
   "source": [
    "import multiprocessing\n",
    "def square(n):\n",
    "    return n**2\n",
    "if __name__ == '__main__':\n",
    "    with multiprocessing.Pool(processes=5) as pool :\n",
    "        out =pool.map(square , [1,2,3,4,5,6,7,8,9])\n",
    "        print(out)"
   ]
  },
  {
   "cell_type": "markdown",
   "id": "b97fc5d4",
   "metadata": {},
   "source": [
    "### Q5. How can we create a pool of worker processes in python using the multiprocessing module?"
   ]
  },
  {
   "cell_type": "raw",
   "id": "0454169d",
   "metadata": {},
   "source": [
    "from multiprocessing import Pool, TimeoutError\n",
    "import time\n",
    "import os\n",
    "\n",
    "def f(x):\n",
    "    return x*x\n",
    "\n",
    "if __name__ == '__main__':\n",
    "    with Pool(processes=4) as pool:\n",
    "        print(pool.map(f, range(10)))\n",
    "        for i in pool.imap_unordered(f, range(10)):\n",
    "            print(i)\n",
    "        res = pool.apply_async(f, (20,))  \n",
    "        print(res.get(timeout=1))             \n",
    "\n",
    "        res = pool.apply_async(os.getpid, ())\n",
    "        print(res.get(timeout=1))             \n",
    "\n",
    "        multiple_results = [pool.apply_async(os.getpid, ()) for i in range(4)]\n",
    "        print([res.get(timeout=1) for res in multiple_results])\n",
    "\n",
    "        res = pool.apply_async(time.sleep, (10,))\n",
    "        try:\n",
    "            print(res.get(timeout=1))\n",
    "        except TimeoutError:\n",
    "            print(\"We lacked patience and got a multiprocessing.TimeoutError\")\n",
    "\n",
    "        print(\"For the moment, the pool remains available for more work\")\n",
    "\n",
    "    print(\"Now the pool is closed and no longer available\")"
   ]
  },
  {
   "cell_type": "markdown",
   "id": "c95ee1d9",
   "metadata": {},
   "source": [
    "### Q6. Write a python program to create 4 processes, each process should print a different number using the multiprocessing module in python."
   ]
  },
  {
   "cell_type": "raw",
   "id": "67a400c0",
   "metadata": {},
   "source": [
    "import multiprocessing\n",
    "def square(n):\n",
    "    return n**2\n",
    "if __name__ == '__main__':\n",
    "    with multiprocessing.Pool(processes=4) as pool :\n",
    "        out =pool.map(square , [1,2,3,4])\n",
    "        print(out)"
   ]
  },
  {
   "cell_type": "code",
   "execution_count": null,
   "id": "a48513e8",
   "metadata": {},
   "outputs": [],
   "source": []
  },
  {
   "cell_type": "code",
   "execution_count": null,
   "id": "20ebe943",
   "metadata": {},
   "outputs": [],
   "source": []
  },
  {
   "cell_type": "code",
   "execution_count": null,
   "id": "aba691d9",
   "metadata": {},
   "outputs": [],
   "source": []
  }
 ],
 "metadata": {
  "kernelspec": {
   "display_name": "Python 3 (ipykernel)",
   "language": "python",
   "name": "python3"
  },
  "language_info": {
   "codemirror_mode": {
    "name": "ipython",
    "version": 3
   },
   "file_extension": ".py",
   "mimetype": "text/x-python",
   "name": "python",
   "nbconvert_exporter": "python",
   "pygments_lexer": "ipython3",
   "version": "3.9.18"
  }
 },
 "nbformat": 4,
 "nbformat_minor": 5
}
