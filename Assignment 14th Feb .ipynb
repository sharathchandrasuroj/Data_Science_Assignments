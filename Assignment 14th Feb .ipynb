{
 "cells": [
  {
   "cell_type": "markdown",
   "id": "92ad0030",
   "metadata": {},
   "source": [
    "### 1). What is multithreading in python? hy is it used? Name the module used to handle threads in python"
   ]
  },
  {
   "cell_type": "markdown",
   "id": "f3be1f14",
   "metadata": {},
   "source": [
    "Multithreading is a concurrent execution model where multiple threads (smaller units of a process) run independently within the same process, sharing the same resources but executing different tasks concurrently. In Python, multithreading is achieved using the threading module.\n",
    "\n",
    "Why is Multithreading Used?\n",
    "\n",
    "Concurrency: Multithreading allows multiple tasks to be executed concurrently, making better use of CPU resources. This is particularly useful when dealing with I/O-bound tasks or tasks that can be performed independently.\n",
    "\n",
    "Responsiveness: In graphical user interfaces (GUIs), multithreading helps maintain responsiveness. For example, one thread can handle user input while another performs background tasks.\n",
    "\n",
    "Parallelism: Although Python's Global Interpreter Lock (GIL) limits the execution of multiple threads in parallel within a single process, multithreading can still be useful for parallelizing certain tasks, such as CPU-bound operations using multiple processes.\n",
    "\n",
    "Asynchronous Programming: Multithreading is often used in asynchronous programming to handle concurrent execution of non-blocking tasks."
   ]
  },
  {
   "cell_type": "code",
   "execution_count": 1,
   "id": "350a5094",
   "metadata": {},
   "outputs": [
    {
     "name": "stdout",
     "output_type": "stream",
     "text": [
      "Thread 2: AThread 1: 0\n",
      "\n",
      "Thread 1: 1\n",
      "Thread 2: B\n",
      "Thread 1: 2\n",
      "Thread 2: C\n",
      "Thread 1: 3\n",
      "Thread 2: D\n",
      "Thread 1: 4\n",
      "Thread 2: E\n",
      "Both threads have finished.\n"
     ]
    }
   ],
   "source": [
    "import threading\n",
    "import time\n",
    "\n",
    "def print_numbers():\n",
    "    for i in range(5):\n",
    "        time.sleep(1)\n",
    "        print(f\"Thread 1: {i}\")\n",
    "\n",
    "def print_letters():\n",
    "    for letter in 'ABCDE':\n",
    "        time.sleep(1)\n",
    "        print(f\"Thread 2: {letter}\")\n",
    "\n",
    "# Creating threads\n",
    "thread1 = threading.Thread(target=print_numbers)\n",
    "thread2 = threading.Thread(target=print_letters)\n",
    "\n",
    "# Starting threads\n",
    "thread1.start()\n",
    "thread2.start()\n",
    "\n",
    "# Waiting for threads to finish\n",
    "thread1.join()\n",
    "thread2.join()\n",
    "\n",
    "print(\"Both threads have finished.\")\n"
   ]
  },
  {
   "cell_type": "markdown",
   "id": "97b5de6a",
   "metadata": {},
   "source": [
    "### 2. why threading module used? write the use of the following functions\n",
    "1.activeCount\n",
    "2.currentThread\n",
    "3.enumerate"
   ]
  },
  {
   "cell_type": "markdown",
   "id": "068e9113",
   "metadata": {},
   "source": [
    "The threading module in Python is used for working with threads. It provides a way to create, manage, and synchronize threads within a Python program. Threading is used for concurrent execution, allowing multiple threads to run independently and share resources within the same process."
   ]
  },
  {
   "cell_type": "markdown",
   "id": "1cff4823",
   "metadata": {},
   "source": [
    "1. activeCount() Function:\n",
    "\n",
    "Use:\n",
    "Returns the number of Thread objects currently alive.\n",
    "\n",
    "Example:"
   ]
  },
  {
   "cell_type": "code",
   "execution_count": 4,
   "id": "888ef77c",
   "metadata": {},
   "outputs": [
    {
     "name": "stdout",
     "output_type": "stream",
     "text": [
      "Number of active threads: 6\n"
     ]
    }
   ],
   "source": [
    "import threading\n",
    "\n",
    "def my_function():\n",
    "    pass\n",
    "\n",
    "# Create and start threads\n",
    "thread1 = threading.Thread(target=my_function)\n",
    "thread2 = threading.Thread(target=my_function)\n",
    "thread1.start()\n",
    "thread2.start()\n",
    "\n",
    "# Print the number of active threads\n",
    "print(\"Number of active threads:\", threading.activeCount())\n"
   ]
  },
  {
   "cell_type": "markdown",
   "id": "4f41a151",
   "metadata": {},
   "source": [
    "2.currentThread() Function:\n",
    "\n",
    "Use:\n",
    "Returns the current Thread object corresponding to the caller's thread of control.\n",
    "Example:"
   ]
  },
  {
   "cell_type": "code",
   "execution_count": 5,
   "id": "7ad0caa5",
   "metadata": {},
   "outputs": [
    {
     "name": "stdout",
     "output_type": "stream",
     "text": [
      "Current thread name: CustomThread\n"
     ]
    }
   ],
   "source": [
    "import threading\n",
    "\n",
    "def my_function():\n",
    "    current_thread = threading.currentThread()\n",
    "    print(\"Current thread name:\", current_thread.name)\n",
    "\n",
    "# Create and start a thread\n",
    "my_thread = threading.Thread(target=my_function, name=\"CustomThread\")\n",
    "my_thread.start()\n"
   ]
  },
  {
   "cell_type": "markdown",
   "id": "b8564da7",
   "metadata": {},
   "source": [
    "3.enumerate() Function:\n",
    "\n",
    "Use:\n",
    "Returns a list of all Thread objects currently alive. The list includes the current thread and daemonic threads, if any.\n",
    "Example:"
   ]
  },
  {
   "cell_type": "code",
   "execution_count": 6,
   "id": "412ce735",
   "metadata": {},
   "outputs": [
    {
     "name": "stdout",
     "output_type": "stream",
     "text": [
      "Thread name: MainThread\n",
      "Thread name: IOPub\n",
      "Thread name: Heartbeat\n",
      "Thread name: Control\n",
      "Thread name: IPythonHistorySavingThread\n",
      "Thread name: Thread-4\n"
     ]
    }
   ],
   "source": [
    "import threading\n",
    "\n",
    "def my_function():\n",
    "    pass\n",
    "\n",
    "# Create and start threads\n",
    "thread1 = threading.Thread(target=my_function)\n",
    "thread2 = threading.Thread(target=my_function)\n",
    "thread1.start()\n",
    "thread2.start()\n",
    "\n",
    "# Enumerate and print all active threads\n",
    "for thread in threading.enumerate():\n",
    "    print(\"Thread name:\", thread.name)\n"
   ]
  },
  {
   "cell_type": "markdown",
   "id": "5ef4523d",
   "metadata": {},
   "source": [
    "### 3. Explain the following functions\n",
    "\n",
    "1.run()\n",
    "2.start()\n",
    "3.join()\n",
    "4.isAlive()"
   ]
  },
  {
   "cell_type": "markdown",
   "id": "ddbda9be",
   "metadata": {},
   "source": [
    "1.run() Method:\n",
    "\n",
    "Use:\n",
    "The run() method is the entry point for the thread's activity. It should be overridden in a subclass to define the code to be executed when the thread is started.\n",
    "Example:"
   ]
  },
  {
   "cell_type": "code",
   "execution_count": 7,
   "id": "5b5cdaca",
   "metadata": {},
   "outputs": [
    {
     "name": "stdout",
     "output_type": "stream",
     "text": [
      "Thread is running\n"
     ]
    }
   ],
   "source": [
    "import threading\n",
    "\n",
    "class MyThread(threading.Thread):\n",
    "    def run(self):\n",
    "        print(\"Thread is running\")\n",
    "\n",
    "# Create and start the thread\n",
    "my_thread = MyThread()\n",
    "my_thread.start()\n"
   ]
  },
  {
   "cell_type": "markdown",
   "id": "5c75b638",
   "metadata": {},
   "source": [
    "2.start() Method:\n",
    "\n",
    "Use:\n",
    "The start() method is used to start the execution of the thread by invoking the run() method in a separate thread of control.\n",
    "Example:"
   ]
  },
  {
   "cell_type": "code",
   "execution_count": 8,
   "id": "ec44e477",
   "metadata": {},
   "outputs": [
    {
     "name": "stdout",
     "output_type": "stream",
     "text": [
      "Thread is running\n"
     ]
    }
   ],
   "source": [
    "import threading\n",
    "\n",
    "def my_function():\n",
    "    print(\"Thread is running\")\n",
    "\n",
    "# Create and start the thread\n",
    "my_thread = threading.Thread(target=my_function)\n",
    "my_thread.start()\n"
   ]
  },
  {
   "cell_type": "markdown",
   "id": "86ed944f",
   "metadata": {},
   "source": [
    "3.join([timeout]) Method:\n",
    "\n",
    "Use:\n",
    "The join() method is used to wait for the thread to complete its execution. It blocks the calling thread until the thread whose join() method is called has finished.\n",
    "Example:"
   ]
  },
  {
   "cell_type": "code",
   "execution_count": 9,
   "id": "8e91f6d0",
   "metadata": {},
   "outputs": [
    {
     "name": "stdout",
     "output_type": "stream",
     "text": [
      "Thread is running\n"
     ]
    }
   ],
   "source": [
    "import threading\n",
    "\n",
    "def my_function():\n",
    "    print(\"Thread is running\")\n",
    "\n",
    "# Create and start the thread\n",
    "my_thread = threading.Thread(target=my_function)\n",
    "my_thread.start()\n",
    "\n",
    "# Wait for the thread to finish\n",
    "my_thread.join()\n"
   ]
  },
  {
   "cell_type": "markdown",
   "id": "143eeac3",
   "metadata": {},
   "source": [
    "4.isAlive() Method:\n",
    "\n",
    "Use:\n",
    "The isAlive() method returns True if the thread is currently executing, i.e., it has been started and has not yet terminated. Otherwise, it returns False.\n",
    "Example:"
   ]
  },
  {
   "cell_type": "code",
   "execution_count": 11,
   "id": "760c5e4a",
   "metadata": {},
   "outputs": [
    {
     "ename": "AttributeError",
     "evalue": "'Thread' object has no attribute 'isAlive'",
     "output_type": "error",
     "traceback": [
      "\u001b[1;31m---------------------------------------------------------------------------\u001b[0m",
      "\u001b[1;31mAttributeError\u001b[0m                            Traceback (most recent call last)",
      "Cell \u001b[1;32mIn[11], line 12\u001b[0m\n\u001b[0;32m      9\u001b[0m my_thread\u001b[38;5;241m.\u001b[39mstart()\n\u001b[0;32m     11\u001b[0m \u001b[38;5;66;03m# Check if the thread is still alive\u001b[39;00m\n\u001b[1;32m---> 12\u001b[0m \u001b[38;5;28mprint\u001b[39m(\u001b[38;5;124m\"\u001b[39m\u001b[38;5;124mIs the thread alive?\u001b[39m\u001b[38;5;124m\"\u001b[39m, \u001b[43mmy_thread\u001b[49m\u001b[38;5;241;43m.\u001b[39;49m\u001b[43misAlive\u001b[49m())\n\u001b[0;32m     14\u001b[0m \u001b[38;5;66;03m# Wait for the thread to finish\u001b[39;00m\n\u001b[0;32m     15\u001b[0m my_thread\u001b[38;5;241m.\u001b[39mjoin()\n",
      "\u001b[1;31mAttributeError\u001b[0m: 'Thread' object has no attribute 'isAlive'"
     ]
    }
   ],
   "source": [
    "import threading\n",
    "import time\n",
    "\n",
    "def my_function():\n",
    "    time.sleep(2)\n",
    "\n",
    "# Create and start the thread\n",
    "my_thread = threading.Thread(target=my_function)\n",
    "my_thread.start()\n",
    "\n",
    "# Check if the thread is still alive\n",
    "print(\"Is the thread alive?\", my_thread.isAlive())\n",
    "\n",
    "# Wait for the thread to finish\n",
    "my_thread.join()\n",
    "\n",
    "# Check again after joining\n",
    "print(\"Is the thread alive?\", my_thread.isAlive())\n"
   ]
  },
  {
   "cell_type": "markdown",
   "id": "cddd4818",
   "metadata": {},
   "source": [
    "### 4. write a python program to create two threads. Thread one must print the list of squares and thread two must print the list of cubes"
   ]
  },
  {
   "cell_type": "code",
   "execution_count": 12,
   "id": "9bbe2e62",
   "metadata": {},
   "outputs": [
    {
     "name": "stdout",
     "output_type": "stream",
     "text": [
      "Square: 1 * 1 = 1\n",
      "Square: 2 * 2 = 4\n",
      "Square: 3 * 3 = 9\n",
      "Square: 4 * 4 = 16\n",
      "Square: 5 * 5 = 25\n",
      "Cube: 1 * 1 * 1 = 1\n",
      "Cube: 2 * 2 * 2 = 8\n",
      "Cube: 3 * 3 * 3 = 27\n",
      "Cube: 4 * 4 * 4 = 64\n",
      "Cube: 5 * 5 * 5 = 125\n",
      "Both threads have finished.\n"
     ]
    }
   ],
   "source": [
    "import threading\n",
    "\n",
    "def print_squares(numbers):\n",
    "    for number in numbers:\n",
    "        print(f\"Square: {number} * {number} = {number**2}\")\n",
    "\n",
    "def print_cubes(numbers):\n",
    "    for number in numbers:\n",
    "        print(f\"Cube: {number} * {number} * {number} = {number**3}\")\n",
    "\n",
    "# Shared list of numbers\n",
    "numbers_list = [1, 2, 3, 4, 5]\n",
    "\n",
    "# Create and start thread for squares\n",
    "thread_squares = threading.Thread(target=print_squares, args=(numbers_list,))\n",
    "thread_squares.start()\n",
    "\n",
    "# Create and start thread for cubes\n",
    "thread_cubes = threading.Thread(target=print_cubes, args=(numbers_list,))\n",
    "thread_cubes.start()\n",
    "\n",
    "# Wait for both threads to finish\n",
    "thread_squares.join()\n",
    "thread_cubes.join()\n",
    "\n",
    "print(\"Both threads have finished.\")\n"
   ]
  },
  {
   "cell_type": "markdown",
   "id": "7b184f21",
   "metadata": {},
   "source": [
    "### 5. State advantages and disadvantages of multithreading"
   ]
  },
  {
   "cell_type": "markdown",
   "id": "bff2c834",
   "metadata": {},
   "source": [
    "Advantages of Multithreading:\n",
    "\n",
    "1.Concurrency: Multithreading allows multiple threads to execute concurrently within the same process, enabling better utilization of CPU resources and improving overall system performance.\n",
    "\n",
    "2.Responsiveness: Multithreading is beneficial in graphical user interfaces (GUIs) and applications where responsiveness is crucial. It allows the user interface to remain responsive while background tasks are being executed in separate threads.\n",
    "\n",
    "3.Resource Sharing: Threads within the same process share the same memory space, making it easier to share data and resources between them. This can lead to more efficient communication and collaboration among threads.\n",
    "\n",
    "4.Parallelism: Although Python's Global Interpreter Lock (GIL) limits true parallelism within a single process, multithreading can still be effective for parallelizing certain tasks, such as I/O-bound operations or tasks that involve waiting for external resources.\n",
    "\n",
    "5.Simplified Code Structure: Multithreading can simplify the structure of certain programs by allowing developers to break down complex tasks into smaller, more manageable threads. This can lead to cleaner and more modular code."
   ]
  },
  {
   "cell_type": "markdown",
   "id": "0b0a5fe3",
   "metadata": {},
   "source": [
    "Disadvantages of Multithreading:\n",
    "\n",
    "1Complexity: Multithreading introduces complexity, as developers need to manage synchronization, communication, and potential race conditions between threads. Debugging and understanding multithreaded code can be challenging.\n",
    "\n",
    "2.Race Conditions: Race conditions may occur when multiple threads access shared resources concurrently, leading to unpredictable and undesired behavior. Careful synchronization mechanisms, such as locks, are required to prevent race conditions.\n",
    "\n",
    "3.Deadlocks: Deadlocks can occur when two or more threads are blocked forever, waiting for each other to release resources. Designing and managing locks appropriately is crucial to avoid deadlocks.\n",
    "\n",
    "4.Increased Memory Overhead: Each thread has its own stack, which consumes memory. The overhead of managing multiple threads and their associated resources can result in increased memory usage.\n",
    "\n",
    "5.Global Interpreter Lock (GIL): In Python, the Global Interpreter Lock restricts true parallel execution of multiple threads within the same process. This limitation reduces the benefits of multithreading for CPU-bound tasks in Python.\n",
    "\n",
    "6.Difficulty in Debugging: Debugging multithreaded applications can be more challenging due to the non-deterministic nature of thread execution and the potential for subtle timing-related bugs."
   ]
  },
  {
   "cell_type": "markdown",
   "id": "a5965d89",
   "metadata": {},
   "source": [
    "### 6. Explain deadlocks and race conditions."
   ]
  },
  {
   "cell_type": "markdown",
   "id": "1f2f3228",
   "metadata": {},
   "source": [
    "Deadlocks:\n",
    "\n",
    "A deadlock is a situation in computing where two or more processes or threads are unable to proceed because each is waiting for the other to release a resource. In other words, each process holds a resource and is waiting for another resource acquired by some other process, resulting in a circular waiting scenario. As a result, the processes involved are unable to make progress, leading to a system deadlock.\n",
    "\n",
    "The necessary conditions for a deadlock to occur are:\n",
    "\n",
    "1.Mutual Exclusion: At least one resource must be held in a non-sharable mode, meaning only one process can use it at a time.\n",
    "\n",
    "2.Hold and Wait: A process must be holding at least one resource and waiting to acquire additional resources held by other processes.\n",
    "\n",
    "3.No Preemption: Resources cannot be forcibly taken away from a process; they must be released voluntarily by the process holding them.\n",
    "\n",
    "4.Circular Wait: There must be a circular chain of two or more processes, each waiting for a resource held by the next process in the chain.\n",
    "Example of Deadlock:"
   ]
  },
  {
   "cell_type": "code",
   "execution_count": 13,
   "id": "ff916ae9",
   "metadata": {},
   "outputs": [
    {
     "name": "stdout",
     "output_type": "stream",
     "text": [
      "Process 1 executing\n",
      "Process 2 executing\n"
     ]
    }
   ],
   "source": [
    "import threading\n",
    "\n",
    "# Shared resources\n",
    "resource1 = threading.Lock()\n",
    "resource2 = threading.Lock()\n",
    "\n",
    "def process1():\n",
    "    with resource1:\n",
    "        with resource2:\n",
    "            print(\"Process 1 executing\")\n",
    "\n",
    "def process2():\n",
    "    with resource2:\n",
    "        with resource1:\n",
    "            print(\"Process 2 executing\")\n",
    "\n",
    "# Create and start threads\n",
    "thread1 = threading.Thread(target=process1)\n",
    "thread2 = threading.Thread(target=process2)\n",
    "thread1.start()\n",
    "thread2.start()\n",
    "thread1.join()\n",
    "thread2.join()\n"
   ]
  },
  {
   "cell_type": "markdown",
   "id": "1ad83574",
   "metadata": {},
   "source": [
    "Race Conditions:\n",
    "\n",
    "A race condition occurs in a program when the behavior depends on the relative timing of events, and the outcome is unpredictable. It typically happens when multiple threads or processes access shared resources concurrently, and the final result depends on the interleaving of their execution. Race conditions can lead to unexpected and undesired behavior in a program.\n",
    "\n",
    "Common situations that can lead to race conditions include:\n",
    "\n",
    "1.Read-Modify-Write Operations: When multiple threads perform read-modify-write operations on shared data without proper synchronization, the final value can be inconsistent.\n",
    "\n",
    "2.Critical Sections: Portions of code where shared resources are accessed must be executed atomically to avoid race conditions. If multiple threads access these critical sections without proper synchronization, race conditions may occur.\n",
    "\n",
    "Example of Race Condition:"
   ]
  },
  {
   "cell_type": "code",
   "execution_count": 14,
   "id": "3b0aa692",
   "metadata": {},
   "outputs": [
    {
     "name": "stdout",
     "output_type": "stream",
     "text": [
      "Final Counter Value: 1143733\n"
     ]
    }
   ],
   "source": [
    "import threading\n",
    "\n",
    "counter = 0\n",
    "\n",
    "def increment_counter():\n",
    "    global counter\n",
    "    for _ in range(1000000):\n",
    "        counter += 1\n",
    "\n",
    "# Create and start threads\n",
    "thread1 = threading.Thread(target=increment_counter)\n",
    "thread2 = threading.Thread(target=increment_counter)\n",
    "thread1.start()\n",
    "thread2.start()\n",
    "thread1.join()\n",
    "thread2.join()\n",
    "\n",
    "print(\"Final Counter Value:\", counter)\n"
   ]
  },
  {
   "cell_type": "code",
   "execution_count": null,
   "id": "8e98ad28",
   "metadata": {},
   "outputs": [],
   "source": []
  },
  {
   "cell_type": "code",
   "execution_count": null,
   "id": "75a68b27",
   "metadata": {},
   "outputs": [],
   "source": []
  },
  {
   "cell_type": "code",
   "execution_count": null,
   "id": "b7355f68",
   "metadata": {},
   "outputs": [],
   "source": []
  },
  {
   "cell_type": "code",
   "execution_count": null,
   "id": "925d7a9a",
   "metadata": {},
   "outputs": [],
   "source": []
  }
 ],
 "metadata": {
  "kernelspec": {
   "display_name": "Python 3 (ipykernel)",
   "language": "python",
   "name": "python3"
  },
  "language_info": {
   "codemirror_mode": {
    "name": "ipython",
    "version": 3
   },
   "file_extension": ".py",
   "mimetype": "text/x-python",
   "name": "python",
   "nbconvert_exporter": "python",
   "pygments_lexer": "ipython3",
   "version": "3.9.18"
  }
 },
 "nbformat": 4,
 "nbformat_minor": 5
}
